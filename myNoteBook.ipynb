{
 "cells": [
  {
   "cell_type": "markdown",
   "metadata": {},
   "source": [
    "# Week1 - Environment setup, formatting"
   ]
  },
  {
   "cell_type": "markdown",
   "metadata": {},
   "source": [
    "## List of x values"
   ]
  },
  {
   "cell_type": "code",
   "execution_count": 2,
   "metadata": {},
   "outputs": [
    {
     "data": {
      "text/plain": [
       "array([1. , 1.1, 1.2, 1.3, 1.4, 1.5, 1.6, 1.7, 1.8, 1.9, 2. , 2.1, 2.2,\n",
       "       2.3, 2.4, 2.5, 2.6, 2.7, 2.8, 2.9, 3. , 3.1, 3.2, 3.3, 3.4, 3.5,\n",
       "       3.6, 3.7, 3.8, 3.9, 4. , 4.1, 4.2, 4.3, 4.4, 4.5, 4.6, 4.7, 4.8,\n",
       "       4.9, 5. , 5.1, 5.2, 5.3, 5.4, 5.5, 5.6, 5.7, 5.8, 5.9, 6. , 6.1,\n",
       "       6.2, 6.3, 6.4, 6.5, 6.6, 6.7, 6.8, 6.9, 7. , 7.1, 7.2, 7.3, 7.4,\n",
       "       7.5, 7.6, 7.7, 7.8, 7.9, 8. , 8.1, 8.2, 8.3, 8.4, 8.5, 8.6, 8.7,\n",
       "       8.8, 8.9, 9. , 9.1, 9.2, 9.3, 9.4, 9.5, 9.6, 9.7, 9.8, 9.9])"
      ]
     },
     "execution_count": 2,
     "metadata": {},
     "output_type": "execute_result"
    }
   ],
   "source": [
    "import numpy as np\n",
    "import matplotlib.pyplot as plt\n",
    "np.arange(1.0,10.0,0.1)"
   ]
  },
  {
   "cell_type": "markdown",
   "metadata": {},
   "source": [
    "## list of y values\n",
    "\n",
    "##### LaTex is for writing mathematical formula by encapsulating in \"$\"\n",
    "$ y = e^x $ \n",
    "\n",
    "##### or go to town wit $$ that will render it in the middle\n",
    "$$ y = \\frac{x^2}{2x} \\approx\\sum_{i=0}^{100} xî $$\n"
   ]
  },
  {
   "cell_type": "code",
   "execution_count": 3,
   "metadata": {},
   "outputs": [
    {
     "data": {
      "text/plain": [
       "[<matplotlib.lines.Line2D at 0x205569178b0>]"
      ]
     },
     "execution_count": 3,
     "metadata": {},
     "output_type": "execute_result"
    },
    {
     "data": {
      "image/png": "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",
      "text/plain": [
       "<Figure size 300x300 with 1 Axes>"
      ]
     },
     "metadata": {},
     "output_type": "display_data"
    }
   ],
   "source": [
    "x = np.linspace(0.0, 3.0, 1001)\n",
    "y = np.exp(x)\n",
    "fig, ax = plt.subplots(figsize=(3,3))\n",
    "plt.plot(x,y)"
   ]
  },
  {
   "cell_type": "markdown",
   "metadata": {},
   "source": [
    "# Week 2"
   ]
  },
  {
   "cell_type": "markdown",
   "metadata": {},
   "source": [
    "## Data types in Data analytics. \n",
    "(Adapted from: https://docs.python.org/3/tutorial/introduction.html)"
   ]
  },
  {
   "cell_type": "markdown",
   "metadata": {},
   "source": [
    "Cathegorical variables (car brands), quantitative variables (people's height)"
   ]
  },
  {
   "cell_type": "markdown",
   "metadata": {},
   "source": [
    "#### Floor division"
   ]
  },
  {
   "cell_type": "code",
   "execution_count": 13,
   "metadata": {},
   "outputs": [
    {
     "data": {
      "text/plain": [
       "5.666666666666667"
      ]
     },
     "execution_count": 13,
     "metadata": {},
     "output_type": "execute_result"
    }
   ],
   "source": [
    "17 / 3  # classic division always returns a float"
   ]
  },
  {
   "cell_type": "code",
   "execution_count": 21,
   "metadata": {},
   "outputs": [
    {
     "data": {
      "text/plain": [
       "5"
      ]
     },
     "execution_count": 21,
     "metadata": {},
     "output_type": "execute_result"
    }
   ],
   "source": [
    "#Unless variable is specified as integer\n",
    "int(17/3) # the remainder is ommited"
   ]
  },
  {
   "cell_type": "code",
   "execution_count": 15,
   "metadata": {},
   "outputs": [
    {
     "data": {
      "text/plain": [
       "5"
      ]
     },
     "execution_count": 15,
     "metadata": {},
     "output_type": "execute_result"
    }
   ],
   "source": [
    "# or using // for floor division\n",
    "17 // 3  # floor division discards the fractional part ! without the remainder!"
   ]
  },
  {
   "cell_type": "code",
   "execution_count": 11,
   "metadata": {},
   "outputs": [
    {
     "data": {
      "text/plain": [
       "2"
      ]
     },
     "execution_count": 11,
     "metadata": {},
     "output_type": "execute_result"
    }
   ],
   "source": [
    "17 % 3  # the % operator returns ONLY the remainder of the division as an INTEGER"
   ]
  },
  {
   "cell_type": "code",
   "execution_count": 7,
   "metadata": {},
   "outputs": [
    {
     "data": {
      "text/plain": [
       "17"
      ]
     },
     "execution_count": 7,
     "metadata": {},
     "output_type": "execute_result"
    }
   ],
   "source": [
    "5 * 3 + 2  # floored quotient * divisor + remainder"
   ]
  },
  {
   "cell_type": "code",
   "execution_count": 20,
   "metadata": {},
   "outputs": [
    {
     "data": {
      "text/plain": [
       "(float, int, int)"
      ]
     },
     "execution_count": 20,
     "metadata": {},
     "output_type": "execute_result"
    }
   ],
   "source": [
    "a=(17/3)\n",
    "b=(17//3)\n",
    "c=(17%3)\n",
    "type(a), type(b), type(c)"
   ]
  },
  {
   "cell_type": "code",
   "execution_count": 26,
   "metadata": {},
   "outputs": [
    {
     "name": "stdout",
     "output_type": "stream",
     "text": [
      "simple division (17/3)= 5.666666666666667, Rounding (round(17/3))= 6\n"
     ]
    }
   ],
   "source": [
    "#floor div and rounding is not the same. \n",
    "print(f\"simple division (17/3)= {(17/3)}, Rounding (round(17/3))= {round(17/3)}\") # rounding will give a different result!"
   ]
  },
  {
   "cell_type": "markdown",
   "metadata": {},
   "source": [
    "### Variable types in Statistics\n",
    "#### Stevens's typology - Level of measurement"
   ]
  },
  {
   "cell_type": "markdown",
   "metadata": {},
   "source": [
    "| Level of Measurement | Measure Property     | Mathematical Operators | Advanced Operations     | Central Tendency  | Examples                                 |\n",
    "| -------------------- | -------------------- | ----------------------- | ----------------------- | ----------------- | ---------------------------------------- |\n",
    "| Nominal              | Classification, membership | =, ≠               | Grouping                | Mode              | Qualitative variation, groups of things                     |\n",
    "| Ordinal              | Comparison, level    | >, <                    | Sorting                 | Median            | Range, interquartile range, Likert scale                |\n",
    "| Interval             | Difference, affinity | +, −                    | Comparison to a standard | Arithmetic mean   | Deviation, temperature in Celsius        |\n",
    "| Ratio                | Magnitude, amount    | ×, /                    | Ratio                   | Geometric mean, harmonic mean | Coefficient of variation, studentized range, (like distance. for example, a distance of ten metres is twice the distance of 5 metres.) |\n"
   ]
  },
  {
   "cell_type": "markdown",
   "metadata": {},
   "source": [
    "Types of data & the scales of measurement, UNSW, Sydney 2020 (https://studyonline.unsw.edu.au/blog/types-of-data#:~:text=Properties%20and%20scales%20of%20measurement,to%20properly%20analyse%20the%20data)\n",
    "\n",
    "![](https://studyonline.unsw.edu.au/sites/default/files/field/image/types%20of%20data.png)\n"
   ]
  },
  {
   "cell_type": "markdown",
   "metadata": {},
   "source": [
    "### Types of variables in Statistical publications"
   ]
  },
  {
   "cell_type": "markdown",
   "metadata": {},
   "source": [
    "*from LAERD statistics: https://statistics.laerd.com/statistical-guides/types-of-variable.php*\n",
    "+ Dependent and Independent Variables\n",
    "An **independent** variable, sometimes called an experimental or predictor variable, is a variable that is being manipulated in an experiment in order to observe the effect on a **dependent** variable, sometimes called an outcome variable.\n",
    "\n",
    "+ Categorical vs Continuous Variables\n",
    "\n",
    "Categorical variables are also known as discrete or qualitative variables. Categorical variables can be further categorized as either nominal, ordinal or dichotomous.\n",
    "\n",
    "- Nominal variables are variables that have two or more categories, but which do not have an intrinsic order. For example, a real estate agent could classify their types of property into distinct categories such as houses, condos, co-ops or bungalows. So \"type of property\" is a nominal variable with 4 categories called houses, condos, co-ops and bungalows.\n",
    "\n",
    "- Dichotomous variables are nominal variables which have only two categories or levels (eg. Yes/No, True/False). \n",
    "- Ordinal variables are variables that have two or more categories just like nominal variables only the categories can also be ordered or ranked. (eg. Likert scale (eg. scale of agreement: 1. not at all, 2. a little, 3. undecided, 3. Probably, 4 Absolutely))\n",
    "\n",
    "- Interval variables for characteristic that can be measured along a continuum or scale (eg. 40C° is 20 more than 20C° but not twice as hot.)\n",
    "\n",
    "- Ratio variables are interval variables, but with the added condition that 0 (zero) of the measurement indicates that there is none of that variable (like distance. for example, a distance of ten metres is twice the distance of 5 metres.)"
   ]
  },
  {
   "cell_type": "markdown",
   "metadata": {},
   "source": [
    "*from Statistics Canada: https://www150.statcan.gc.ca/n1/edu/power-pouvoir/ch8/5214817-eng.htm*\n",
    "\n",
    "+ Continuous variables\n",
    "A variable is said to be continuous if it can assume an infinite number of real values within a given interval. For instance, consider the height of a student. The height can’t take any values. It can’t be negative and it can’t be higher than three metres. But between 0 and 3, the number of possible values is theoretically infinite. A student may be 1.6321748755 … metres tall.\n",
    "\n",
    "+ Discrete variables\n",
    "As opposed to a continuous variable, a discrete variable can assume only a finite number of real values within a given interval. An example of a discrete variable would be the score given by a judge to a gymnast in competition: the range is 0 to 10 and the score is always given to one decimal (e.g. a score of 8.5)."
   ]
  },
  {
   "cell_type": "markdown",
   "metadata": {},
   "source": [
    "*from Types of Variables, Descriptive Statistics, and Sample Size (Feroze Kaliyadan and Vinay Kulkarni1): https://www.ncbi.nlm.nih.gov/pmc/articles/PMC6362742/*\n",
    "+ Quantitative vs qualitative \n",
    "A variable can collect either qualitative or quantitative data. A variable differing in quantity is called a quantitative variable (e.g., weight of a group of patients), whereas a variable differing in quality is called a qualitative variable (e.g., the Fitzpatrick skin type)"
   ]
  },
  {
   "cell_type": "markdown",
   "metadata": {},
   "source": [
    "### SPSS Variable types (SPSS free version is PSPP)\n",
    "from: https://www.spss-tutorials.com/spss-variable-types-and-formats/"
   ]
  },
  {
   "cell_type": "markdown",
   "metadata": {},
   "source": [
    "SPSS has 2 variable types:\n",
    "\n",
    "+ Numeric variables contain only numbers and are suitable for numeric calculations such as addition and multiplication.\n",
    "+ String variables may contain letters, numbers and other characters. You can't do calculations on string variables -even if they contain only numbers."
   ]
  },
  {
   "cell_type": "markdown",
   "metadata": {},
   "source": [
    "# Types in Mathematics\n"
   ]
  },
  {
   "cell_type": "markdown",
   "metadata": {},
   "source": [
    "#### real numbers $\\mathbb{R}$ ℝ\n",
    "Real numbers are a comprehensive set of numbers that includes all rational and irrational numbers. In other words, real numbers encompass every conceivable numerical value and can be represented on the real number line.\n",
    "\n",
    "Here are some key characteristics of real numbers:\n",
    "\n",
    "Rational Numbers: All rational numbers, which can be expressed as the quotient of two integers (e.g., fractions and integers), are part of the set of real numbers.\n",
    "\n",
    "Irrational Numbers: Real numbers also include irrational numbers, which cannot be expressed as fractions of two integers. These numbers have non-repeating, non-terminating decimal representations and cannot be expressed as simple fractions (e.g., the square root of 2, π, and e).\n",
    "\n",
    "Integers: All integers (positive, negative, and zero) are real numbers because they are a subset of the rational numbers.\n",
    "\n",
    "Whole Numbers: Whole numbers, which are non-negative integers (0, 1, 2, 3, ...), are also real numbers.\n",
    "\n",
    "Decimal Numbers: Decimal numbers, whether terminating (e.g., 0.75) or non-terminating and repeating (e.g., 0.333... or 0.666...), are real numbers."
   ]
  },
  {
   "cell_type": "markdown",
   "metadata": {},
   "source": [
    "![](https://upload.wikimedia.org/wikipedia/commons/thumb/d/d7/Real_number_line.svg/700px-Real_number_line.svg.png)"
   ]
  },
  {
   "cell_type": "markdown",
   "metadata": {},
   "source": [
    "+ Zeno's never ending haircut\n",
    "\n",
    "![](img/hamster.jpg)"
   ]
  },
  {
   "cell_type": "markdown",
   "metadata": {},
   "source": [
    "##### Rationals $\\mathbb{Q}$\n",
    "+ A rational number is a number that can be expressed as a fraction, \n",
    "+ that is in the form of p/q, where p and q are integers, and q is not equal to 0. Some of the examples of rational numbers include 1/3, 2/4, 1/5, 9/3, and so on.\n",
    "\n"
   ]
  },
  {
   "cell_type": "markdown",
   "metadata": {},
   "source": [
    "##### integers $\\mathbb{Z}$ = {...,-3,-2,-1,0,1,2,3,...}\n",
    "Integers are a set of whole numbers that include both positive and negative values, as well as zero. In other words, integers are numbers that do not have any fractional or decimal parts. \n"
   ]
  },
  {
   "cell_type": "markdown",
   "metadata": {},
   "source": [
    "##### Natural numbers $\\mathbb{Z}$ = {1,2,3...}\n",
    "Natural numbers are a set of positive whole numbers used for counting and ordering. They typically start from 1 and go on infinitely: 1, 2, 3, 4, 5, and so on. "
   ]
  },
  {
   "cell_type": "markdown",
   "metadata": {},
   "source": [
    "### Relation between Real numbers ($\\mathbb{R}$), Rationals ($\\mathbb{Q}$), Integers ($\\mathbb{Z}$) and Natural numbers ($\\mathbb{N}$)\n",
    "\n",
    "![](https://upload.wikimedia.org/wikipedia/commons/thumb/1/17/Number-systems.svg/2880px-Number-systems.svg.png)\n"
   ]
  }
 ],
 "metadata": {
  "kernelspec": {
   "display_name": "base",
   "language": "python",
   "name": "python3"
  },
  "language_info": {
   "codemirror_mode": {
    "name": "ipython",
    "version": 3
   },
   "file_extension": ".py",
   "mimetype": "text/x-python",
   "name": "python",
   "nbconvert_exporter": "python",
   "pygments_lexer": "ipython3",
   "version": "3.9.13"
  },
  "orig_nbformat": 4
 },
 "nbformat": 4,
 "nbformat_minor": 2
}
 {
   "cell_type": "markdown",
   "metadata": {},
   "source": [
    "****\n",
    "****"
   ]
  },
  {
   "cell_type": "markdown",
   "metadata": {},
   "source": [
    "# Random Numbers in numpy"
   ]
  },
  {
   "cell_type": "markdown",
   "metadata": {},
   "source": [
    "#### random. from Python's Standard library\n",
    "https://docs.python.org/3/library/random.html\n",
    "\n",
    "with this python module we can generate a pseudo random number (computers can't produce true random)\n",
    "****\n"
   ]
  },
  {
   "cell_type": "code",
   "execution_count": 2,
   "metadata": {},
   "outputs": [
    {
     "name": "stdout",
     "output_type": "stream",
     "text": [
      "\u001b[1;31mSignature:\u001b[0m \u001b[0mrandom\u001b[0m\u001b[1;33m.\u001b[0m\u001b[0mrandint\u001b[0m\u001b[1;33m(\u001b[0m\u001b[0ma\u001b[0m\u001b[1;33m,\u001b[0m \u001b[0mb\u001b[0m\u001b[1;33m)\u001b[0m\u001b[1;33m\u001b[0m\u001b[1;33m\u001b[0m\u001b[0m\n",
      "\u001b[1;31mDocstring:\u001b[0m\n",
      "Return random integer in range [a, b], including both end points.\n",
      "        \n",
      "\u001b[1;31mFile:\u001b[0m      c:\\users\\norbe\\anaconda3\\lib\\random.py\n",
      "\u001b[1;31mType:\u001b[0m      method\n"
     ]
    }
   ],
   "source": [
    "# Random module from standard python library\n",
    "import random\n",
    "# Questionmark in front of function prints a help message\n",
    "# using autocomplete we get a list of possible functions\n",
    "?random.randint"
   ]
  },
  {
   "cell_type": "code",
   "execution_count": 37,
   "metadata": {},
   "outputs": [
    {
     "data": {
      "text/plain": [
       "16"
      ]
     },
     "execution_count": 37,
     "metadata": {},
     "output_type": "execute_result"
    }
   ],
   "source": [
    "random.randint(10,20)"
   ]
  },
  {
   "cell_type": "code",
   "execution_count": 45,
   "metadata": {},
   "outputs": [
    {
     "name": "stdout",
     "output_type": "stream",
     "text": [
      "3 5 2 6 7 4 2 3 9 3 3 3 3 2 6 1 5 3 10 10 8 10 3 7 2 2 10 2 1 6 6 6 10 9 9 8 9 8 4 7 1 6 8 7 5 1 1 8 10 9 4 8 6 10 7 1 7 3 6 7 2 1 6 3 9 2 2 7 4 9 10 10 2 4 1 4 9 4 8 6 8 10 6 9 10 7 7 3 3 8 6 3 1 2 9 1 9 5 10 6\n"
     ]
    }
   ],
   "source": [
    "# this will give a random list with 100 items, of numbers within 1-10\n",
    "L=[random.randint(1,10) for i in range(100)]\n",
    "print(*L)\n"
   ]
  },
  {
   "cell_type": "markdown",
   "metadata": {},
   "source": [
    "What can ranom. do:"
   ]
  },
  {
   "cell_type": "code",
   "execution_count": 50,
   "metadata": {},
   "outputs": [
    {
     "data": {
      "text/plain": [
       "['Toyota',\n",
       " 'Renault',\n",
       " 'Toyota',\n",
       " 'Ford',\n",
       " 'Ford',\n",
       " 'Toyota',\n",
       " 'Renault',\n",
       " 'Renault',\n",
       " 'Ford',\n",
       " 'Toyota']"
      ]
     },
     "execution_count": 50,
     "metadata": {},
     "output_type": "execute_result"
    }
   ],
   "source": [
    "# pick from lists (with replacement/duplication)\n",
    "\n",
    "# list of car makes\n",
    "makes = ['Toyota', 'Skoda', 'Ford', 'Renault']\n",
    "#pick from list randomly\n",
    "random.choice(makes)\n",
    "#pick multiple times from the list randomly\n",
    "random.choices(makes, k=10)"
   ]
  },
  {
   "cell_type": "code",
   "execution_count": 51,
   "metadata": {},
   "outputs": [
    {
     "data": {
      "text/plain": [
       "['H', 'F', 'C', 'D', 'E', 'B', 'A', 'G']"
      ]
     },
     "execution_count": 51,
     "metadata": {},
     "output_type": "execute_result"
    }
   ],
   "source": [
    "# Shuffle data\n",
    "\n",
    "#First eight letters\n",
    "letters=['A', 'B', 'C', 'D', 'E', 'F', 'G', 'H']\n",
    "\n",
    "#Shuffle them\n",
    "random.shuffle(letters)\n",
    "\n",
    "#check result\n",
    "letters"
   ]
  },
  {
   "cell_type": "markdown",
   "metadata": {},
   "source": [
    "Random selection without replacement/duplicatgion"
   ]
  },
  {
   "cell_type": "code",
   "execution_count": 65,
   "metadata": {},
   "outputs": [
    {
     "data": {
      "text/plain": [
       "['B', 'G', 'E', 'C', 'F']"
      ]
     },
     "execution_count": 65,
     "metadata": {},
     "output_type": "execute_result"
    }
   ],
   "source": [
    "random.sample(letters,k=5)"
   ]
  },
  {
   "cell_type": "code",
   "execution_count": 66,
   "metadata": {},
   "outputs": [
    {
     "ename": "ValueError",
     "evalue": "Sample larger than population or is negative",
     "output_type": "error",
     "traceback": [
      "\u001b[1;31m---------------------------------------------------------------------------\u001b[0m",
      "\u001b[1;31mValueError\u001b[0m                                Traceback (most recent call last)",
      "\u001b[1;32m~\\AppData\\Local\\Temp\\ipykernel_6984\\456693538.py\u001b[0m in \u001b[0;36m<module>\u001b[1;34m\u001b[0m\n\u001b[1;32m----> 1\u001b[1;33m \u001b[0mrandom\u001b[0m\u001b[1;33m.\u001b[0m\u001b[0msample\u001b[0m\u001b[1;33m(\u001b[0m\u001b[0mletters\u001b[0m\u001b[1;33m,\u001b[0m\u001b[0mk\u001b[0m\u001b[1;33m=\u001b[0m\u001b[1;36m15\u001b[0m\u001b[1;33m)\u001b[0m\u001b[1;33m\u001b[0m\u001b[1;33m\u001b[0m\u001b[0m\n\u001b[0m",
      "\u001b[1;32mc:\\Users\\norbe\\anaconda3\\lib\\random.py\u001b[0m in \u001b[0;36msample\u001b[1;34m(self, population, k, counts)\u001b[0m\n\u001b[0;32m    447\u001b[0m         \u001b[0mrandbelow\u001b[0m \u001b[1;33m=\u001b[0m \u001b[0mself\u001b[0m\u001b[1;33m.\u001b[0m\u001b[0m_randbelow\u001b[0m\u001b[1;33m\u001b[0m\u001b[1;33m\u001b[0m\u001b[0m\n\u001b[0;32m    448\u001b[0m         \u001b[1;32mif\u001b[0m \u001b[1;32mnot\u001b[0m \u001b[1;36m0\u001b[0m \u001b[1;33m<=\u001b[0m \u001b[0mk\u001b[0m \u001b[1;33m<=\u001b[0m \u001b[0mn\u001b[0m\u001b[1;33m:\u001b[0m\u001b[1;33m\u001b[0m\u001b[1;33m\u001b[0m\u001b[0m\n\u001b[1;32m--> 449\u001b[1;33m             \u001b[1;32mraise\u001b[0m \u001b[0mValueError\u001b[0m\u001b[1;33m(\u001b[0m\u001b[1;34m\"Sample larger than population or is negative\"\u001b[0m\u001b[1;33m)\u001b[0m\u001b[1;33m\u001b[0m\u001b[1;33m\u001b[0m\u001b[0m\n\u001b[0m\u001b[0;32m    450\u001b[0m         \u001b[0mresult\u001b[0m \u001b[1;33m=\u001b[0m \u001b[1;33m[\u001b[0m\u001b[1;32mNone\u001b[0m\u001b[1;33m]\u001b[0m \u001b[1;33m*\u001b[0m \u001b[0mk\u001b[0m\u001b[1;33m\u001b[0m\u001b[1;33m\u001b[0m\u001b[0m\n\u001b[0;32m    451\u001b[0m         \u001b[0msetsize\u001b[0m \u001b[1;33m=\u001b[0m \u001b[1;36m21\u001b[0m        \u001b[1;31m# size of a small set minus size of an empty list\u001b[0m\u001b[1;33m\u001b[0m\u001b[1;33m\u001b[0m\u001b[0m\n",
      "\u001b[1;31mValueError\u001b[0m: Sample larger than population or is negative"
     ]
    }
   ],
   "source": [
    "# sample sice (k) must be less or equal to list size (as duplication is not allowed)\n",
    "random.sample(letters,k=15)"
   ]
  },
  {
   "cell_type": "code",
   "execution_count": 70,
   "metadata": {},
   "outputs": [
    {
     "data": {
      "text/plain": [
       "0.8028294085554645"
      ]
     },
     "execution_count": 70,
     "metadata": {},
     "output_type": "execute_result"
    }
   ],
   "source": [
    "# Random real (float) number (result is between 0.0,1.0)\n",
    "random.random()"
   ]
  },
  {
   "cell_type": "code",
   "execution_count": 76,
   "metadata": {},
   "outputs": [
    {
     "data": {
      "text/plain": [
       "33.63686778568891"
      ]
     },
     "execution_count": 76,
     "metadata": {},
     "output_type": "execute_result"
    }
   ],
   "source": [
    "# pick random float between 0.0 and 100.0\n",
    "random.uniform(0.0,100.0)"
   ]
  },
  {
   "cell_type": "markdown",
   "metadata": {},
   "source": [
    "***\n",
    "***"
   ]
  },
  {
   "cell_type": "markdown",
   "metadata": {},
   "source": [
    "### Random numbers in numpy"
   ]
  },
  {
   "cell_type": "code",
   "execution_count": 77,
   "metadata": {},
   "outputs": [],
   "source": [
    "import numpy as np"
   ]
  }
 ],
 "metadata": {
  "kernelspec": {
   "display_name": "Python 3 (ipykernel)",
   "language": "python",
   "name": "python3"
  },
  "language_info": {
   "codemirror_mode": {
    "name": "ipython",
    "version": 3
   },
   "file_extension": ".py",
   "mimetype": "text/x-python",
   "name": "python",
   "nbconvert_exporter": "python",
   "pygments_lexer": "ipython3",
   "version": "3.9.13"
  }
 },
 "nbformat": 4,
 "nbformat_minor": 2
}
