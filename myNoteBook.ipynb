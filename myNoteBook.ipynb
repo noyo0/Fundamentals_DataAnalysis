{
 "cells": [
  {
   "cell_type": "markdown",
   "metadata": {},
   "source": [
    "# Week1 - Environment setup, formatting"
   ]
  },
  {
   "cell_type": "markdown",
   "metadata": {},
   "source": [
    "## List of x values"
   ]
  },
  {
   "cell_type": "code",
   "execution_count": 3,
   "metadata": {},
   "outputs": [
    {
     "data": {
      "text/plain": [
       "array([1. , 1.1, 1.2, 1.3, 1.4, 1.5, 1.6, 1.7, 1.8, 1.9, 2. , 2.1, 2.2,\n",
       "       2.3, 2.4, 2.5, 2.6, 2.7, 2.8, 2.9, 3. , 3.1, 3.2, 3.3, 3.4, 3.5,\n",
       "       3.6, 3.7, 3.8, 3.9, 4. , 4.1, 4.2, 4.3, 4.4, 4.5, 4.6, 4.7, 4.8,\n",
       "       4.9, 5. , 5.1, 5.2, 5.3, 5.4, 5.5, 5.6, 5.7, 5.8, 5.9, 6. , 6.1,\n",
       "       6.2, 6.3, 6.4, 6.5, 6.6, 6.7, 6.8, 6.9, 7. , 7.1, 7.2, 7.3, 7.4,\n",
       "       7.5, 7.6, 7.7, 7.8, 7.9, 8. , 8.1, 8.2, 8.3, 8.4, 8.5, 8.6, 8.7,\n",
       "       8.8, 8.9, 9. , 9.1, 9.2, 9.3, 9.4, 9.5, 9.6, 9.7, 9.8, 9.9])"
      ]
     },
     "execution_count": 3,
     "metadata": {},
     "output_type": "execute_result"
    }
   ],
   "source": [
    "import numpy as np\n",
    "import matplotlib.pyplot as plt\n",
    "np.arange(1.0,10.0,0.1)"
   ]
  },
  {
   "cell_type": "markdown",
   "metadata": {},
   "source": [
    "## list of y values\n",
    "\n",
    "##### LaTex is for writing mathematical formula by encapsulating in \"$\"\n",
    "$ y = e^x $ \n",
    "\n",
    "##### or go to town wit $$ that will render it in the middle\n",
    "$$ y = \\frac{x^2}{2x} \\approx\\sum_{i=0}^{100} xî $$\n"
   ]
  },
  {
   "cell_type": "code",
   "execution_count": 4,
   "metadata": {},
   "outputs": [
    {
     "data": {
      "text/plain": [
       "[<matplotlib.lines.Line2D at 0x1d518bd3a90>]"
      ]
     },
     "execution_count": 4,
     "metadata": {},
     "output_type": "execute_result"
    },
    {
     "data": {
      "image/png": "[encoded data removed]",
      "text/plain": [
       "<Figure size 300x300 with 1 Axes>"
      ]
     },
     "metadata": {},
     "output_type": "display_data"
    }
   ],
   "source": [
    "x = np.linspace(0.0, 3.0, 1001)\n",
    "y = np.exp(x)\n",
    "fig, ax = plt.subplots(figsize=(3,3))\n",
    "plt.plot(x,y)"
   ]
  },
  {
   "cell_type": "markdown",
   "metadata": {},
   "source": [
    "# Week 2"
   ]
  },
  {
   "cell_type": "markdown",
   "metadata": {},
   "source": [
    "## Data types in Data analytics. \n",
    "(Adapted from: https://docs.python.org/3/tutorial/introduction.html)"
   ]
  },
  {
   "cell_type": "markdown",
   "metadata": {},
   "source": [
    "Cathegorical variables (car brands), quantitative variables (people's height)"
   ]
  },
  {
   "cell_type": "markdown",
   "metadata": {},
   "source": [
    "#### Floor division"
   ]
  },
  {
   "cell_type": "code",
   "execution_count": 5,
   "metadata": {},
   "outputs": [
    {
     "data": {
      "text/plain": [
       "5.666666666666667"
      ]
     },
     "execution_count": 5,
     "metadata": {},
     "output_type": "execute_result"
    }
   ],
   "source": [
    "17 / 3  # classic division always returns a float"
   ]
  },
  {
   "cell_type": "code",
   "execution_count": 6,
   "metadata": {},
   "outputs": [
    {
     "data": {
      "text/plain": [
       "5"
      ]
     },
     "execution_count": 6,
     "metadata": {},
     "output_type": "execute_result"
    }
   ],
   "source": [
    "#Unless variable is specified as integer\n",
    "int(17/3) # the remainder is ommited"
   ]
  },
  {
   "cell_type": "code",
   "execution_count": 7,
   "metadata": {},
   "outputs": [
    {
     "data": {
      "text/plain": [
       "5"
      ]
     },
     "execution_count": 7,
     "metadata": {},
     "output_type": "execute_result"
    }
   ],
   "source": [
    "# or using // for floor division\n",
    "17 // 3  # floor division discards the fractional part ! without the remainder!"
   ]
  },
  {
   "cell_type": "code",
   "execution_count": 8,
   "metadata": {},
   "outputs": [
    {
     "data": {
      "text/plain": [
       "2"
      ]
     },
     "execution_count": 8,
     "metadata": {},
     "output_type": "execute_result"
    }
   ],
   "source": [
    "17 % 3  # the % operator returns ONLY the remainder of the division as an INTEGER"
   ]
  },
  {
   "cell_type": "code",
   "execution_count": 9,
   "metadata": {},
   "outputs": [
    {
     "data": {
      "text/plain": [
       "17"
      ]
     },
     "execution_count": 9,
     "metadata": {},
     "output_type": "execute_result"
    }
   ],
   "source": [
    "5 * 3 + 2  # floored quotient * divisor + remainder"
   ]
  },
  {
   "cell_type": "code",
   "execution_count": 10,
   "metadata": {},
   "outputs": [
    {
     "data": {
      "text/plain": [
       "(float, int, int)"
      ]
     },
     "execution_count": 10,
     "metadata": {},
     "output_type": "execute_result"
    }
   ],
   "source": [
    "a=(17/3)\n",
    "b=(17//3)\n",
    "c=(17%3)\n",
    "type(a), type(b), type(c)"
   ]
  },
  {
   "cell_type": "code",
   "execution_count": 11,
   "metadata": {},
   "outputs": [
    {
     "name": "stdout",
     "output_type": "stream",
     "text": [
      "simple division (17/3)= 5.666666666666667, Rounding (round(17/3))= 6\n"
     ]
    }
   ],
   "source": [
    "#floor div and rounding is not the same. \n",
    "print(f\"simple division (17/3)= {(17/3)}, Rounding (round(17/3))= {round(17/3)}\") # rounding will give a different result!"
   ]
  },
  {
   "cell_type": "markdown",
   "metadata": {},
   "source": [
    "### Variable types in Statistics\n",
    "#### Stevens's typology - Level of measurement"
   ]
  },
  {
   "cell_type": "markdown",
   "metadata": {},
   "source": [
    "| Level of Measurement | Measure Property     | Mathematical Operators | Advanced Operations     | Central Tendency  | Examples                                 |\n",
    "| -------------------- | -------------------- | ----------------------- | ----------------------- | ----------------- | ---------------------------------------- |\n",
    "| Nominal              | Classification, membership | =, ≠               | Grouping                | Mode              | Qualitative variation, groups of things                     |\n",
    "| Ordinal              | Comparison, level    | >, <                    | Sorting                 | Median            | Range, interquartile range, Likert scale                |\n",
    "| Interval             | Difference, affinity | +, −                    | Comparison to a standard | Arithmetic mean   | Deviation, temperature in Celsius        |\n",
    "| Ratio                | Magnitude, amount    | ×, /                    | Ratio                   | Geometric mean, harmonic mean | Coefficient of variation, studentized range, (like distance. for example, a distance of ten metres is twice the distance of 5 metres.) |\n"
   ]
  },
  {
   "cell_type": "markdown",
   "metadata": {},
   "source": [
    "Types of data & the scales of measurement, UNSW, Sydney 2020 (https://studyonline.unsw.edu.au/blog/types-of-data#:~:text=Properties%20and%20scales%20of%20measurement,to%20properly%20analyse%20the%20data)\n",
    "\n",
    "![](https://studyonline.unsw.edu.au/sites/default/files/field/image/types%20of%20data.png)\n"
   ]
  },
  {
   "cell_type": "markdown",
   "metadata": {},
   "source": [
    "### Types of variables in Statistical publications"
   ]
  },
  {
   "cell_type": "markdown",
   "metadata": {},
   "source": [
    "*from LAERD statistics: https://statistics.laerd.com/statistical-guides/types-of-variable.php*\n",
    "+ Dependent and Independent Variables\n",
    "An **independent** variable, sometimes called an experimental or predictor variable, is a variable that is being manipulated in an experiment in order to observe the effect on a **dependent** variable, sometimes called an outcome variable.\n",
    "\n",
    "+ Categorical vs Continuous Variables\n",
    "\n",
    "Categorical variables are also known as discrete or qualitative variables. Categorical variables can be further categorized as either nominal, ordinal or dichotomous.\n",
    "\n",
    "- Nominal variables are variables that have two or more categories, but which do not have an intrinsic order. For example, a real estate agent could classify their types of property into distinct categories such as houses, condos, co-ops or bungalows. So \"type of property\" is a nominal variable with 4 categories called houses, condos, co-ops and bungalows.\n",
    "\n",
    "- Dichotomous variables are nominal variables which have only two categories or levels (eg. Yes/No, True/False). \n",
    "- Ordinal variables are variables that have two or more categories just like nominal variables only the categories can also be ordered or ranked. (eg. Likert scale (eg. scale of agreement: 1. not at all, 2. a little, 3. undecided, 3. Probably, 4 Absolutely))\n",
    "\n",
    "- Interval variables for characteristic that can be measured along a continuum or scale (eg. 40C° is 20 more than 20C° but not twice as hot.)\n",
    "\n",
    "- Ratio variables are interval variables, but with the added condition that 0 (zero) of the measurement indicates that there is none of that variable (like distance. for example, a distance of ten metres is twice the distance of 5 metres.)"
   ]
  },
  {
   "cell_type": "markdown",
   "metadata": {},
   "source": [
    "*from Statistics Canada: https://www150.statcan.gc.ca/n1/edu/power-pouvoir/ch8/5214817-eng.htm*\n",
    "\n",
    "+ Continuous variables\n",
    "A variable is said to be continuous if it can assume an infinite number of real values within a given interval. For instance, consider the height of a student. The height can’t take any values. It can’t be negative and it can’t be higher than three metres. But between 0 and 3, the number of possible values is theoretically infinite. A student may be 1.6321748755 … metres tall.\n",
    "\n",
    "+ Discrete variables\n",
    "As opposed to a continuous variable, a discrete variable can assume only a finite number of real values within a given interval. An example of a discrete variable would be the score given by a judge to a gymnast in competition: the range is 0 to 10 and the score is always given to one decimal (e.g. a score of 8.5)."
   ]
  },
  {
   "cell_type": "markdown",
   "metadata": {},
   "source": [
    "*from Types of Variables, Descriptive Statistics, and Sample Size (Feroze Kaliyadan and Vinay Kulkarni1): https://www.ncbi.nlm.nih.gov/pmc/articles/PMC6362742/*\n",
    "+ Quantitative vs qualitative \n",
    "A variable can collect either qualitative or quantitative data. A variable differing in quantity is called a quantitative variable (e.g., weight of a group of patients), whereas a variable differing in quality is called a qualitative variable (e.g., the Fitzpatrick skin type)"
   ]
  },
  {
   "cell_type": "markdown",
   "metadata": {},
   "source": [
    "### SPSS Variable types (SPSS free version is PSPP)\n",
    "from: https://www.spss-tutorials.com/spss-variable-types-and-formats/"
   ]
  },
  {
   "cell_type": "markdown",
   "metadata": {},
   "source": [
    "SPSS has 2 variable types:\n",
    "\n",
    "+ Numeric variables contain only numbers and are suitable for numeric calculations such as addition and multiplication.\n",
    "+ String variables may contain letters, numbers and other characters. You can't do calculations on string variables -even if they contain only numbers."
   ]
  },
  {
   "cell_type": "markdown",
   "metadata": {},
   "source": [
    "## Types in Mathematics\n"
   ]
  },
  {
   "cell_type": "markdown",
   "metadata": {},
   "source": [
    "#### real numbers $\\mathbb{R}$ ℝ\n",
    "Real numbers are a comprehensive set of numbers that includes all rational and irrational numbers. In other words, real numbers encompass every conceivable numerical value and can be represented on the real number line.\n",
    "\n",
    "Here are some key characteristics of real numbers:\n",
    "\n",
    "Rational Numbers: All rational numbers, which can be expressed as the quotient of two integers (e.g., fractions and integers), are part of the set of real numbers.\n",
    "\n",
    "Irrational Numbers: Real numbers also include irrational numbers, which cannot be expressed as fractions of two integers. These numbers have non-repeating, non-terminating decimal representations and cannot be expressed as simple fractions (e.g., the square root of 2, π, and e).\n",
    "\n",
    "Integers: All integers (positive, negative, and zero) are real numbers because they are a subset of the rational numbers.\n",
    "\n",
    "Whole Numbers: Whole numbers, which are non-negative integers (0, 1, 2, 3, ...), are also real numbers.\n",
    "\n",
    "Decimal Numbers: Decimal numbers, whether terminating (e.g., 0.75) or non-terminating and repeating (e.g., 0.333... or 0.666...), are real numbers."
   ]
  },
  {
   "cell_type": "markdown",
   "metadata": {},
   "source": [
    "![](https://upload.wikimedia.org/wikipedia/commons/thumb/d/d7/Real_number_line.svg/700px-Real_number_line.svg.png)"
   ]
  },
  {
   "cell_type": "markdown",
   "metadata": {},
   "source": [
    "+ Zeno's never ending haircut\n",
    "\n",
    "![](img/hamster.jpg)"
   ]
  },
  {
   "cell_type": "markdown",
   "metadata": {},
   "source": [
    "##### Rationals $\\mathbb{Q}$\n",
    "+ A rational number is a number that can be expressed as a fraction, \n",
    "+ that is in the form of p/q, where p and q are integers, and q is not equal to 0. Some of the examples of rational numbers include 1/3, 2/4, 1/5, 9/3, and so on.\n",
    "\n"
   ]
  },
  {
   "cell_type": "markdown",
   "metadata": {},
   "source": [
    "##### integers $\\mathbb{Z}$ = {...,-3,-2,-1,0,1,2,3,...}\n",
    "Integers are a set of whole numbers that include both positive and negative values, as well as zero. In other words, integers are numbers that do not have any fractional or decimal parts. \n"
   ]
  },
  {
   "cell_type": "markdown",
   "metadata": {},
   "source": [
    "##### Natural numbers $\\mathbb{Z}$ = {1,2,3...}\n",
    "Natural numbers are a set of positive whole numbers used for counting and ordering. They typically start from 1 and go on infinitely: 1, 2, 3, 4, 5, and so on. "
   ]
  },
  {
   "cell_type": "markdown",
   "metadata": {},
   "source": [
    "#### Relation between Real numbers ($\\mathbb{R}$), Rationals ($\\mathbb{Q}$), Integers ($\\mathbb{Z}$) and Natural numbers ($\\mathbb{N}$)\n",
    "\n",
    "![](https://upload.wikimedia.org/wikipedia/commons/thumb/1/17/Number-systems.svg/2880px-Number-systems.svg.png)\n"
   ]
  },
  {
   "cell_type": "markdown",
   "metadata": {},
   "source": [
    "Randoms\n"
   ]
  },
  {
   "cell_type": "markdown",
   "metadata": {},
   "source": [
    "## Random numbers"
   ]
  },
  {
   "cell_type": "markdown",
   "metadata": {},
   "source": [
    "#### Python Standard library - inbuilt python .random package\n",
    "\n",
    "https://docs.python.org/3/library/random.html\n"
   ]
  },
  {
   "cell_type": "code",
   "execution_count": 12,
   "metadata": {},
   "outputs": [
    {
     "name": "stdout",
     "output_type": "stream",
     "text": [
      "3 8 4 4 4 10 1 7 10 10 5 5 8 1 8 3 5 2 5 1 2 4 9 10 2 9 3 9 7 8 2 1 7 6 1 7 3 10 10 9 5 6 1 3 1 1 2 9 10 2 3 3 8 3 3 1 4 8 1 2 5 2 5 3 2 7 10 2 5 1 5 9 5 1 7 2 3 4 7 6 10 4 4 9 5 4 10 7 4 1 10 6 9 1 5 8 9 10 4 2\n"
     ]
    }
   ],
   "source": [
    "# numerical Arrays, random numbers.\n",
    "import random\n",
    "\n",
    "L = [random.randint(1,10) for i in range(100)]\n",
    "print(*L)"
   ]
  },
  {
   "cell_type": "code",
   "execution_count": 13,
   "metadata": {},
   "outputs": [
    {
     "data": {
      "text/plain": [
       "'Rentault'"
      ]
     },
     "execution_count": 13,
     "metadata": {},
     "output_type": "execute_result"
    }
   ],
   "source": [
    "#List of cars\n",
    "makes= ['Toyota', 'Skoda', 'Ford', 'Rentault']\n",
    "# random choice 1 item\n",
    "random.choice(makes)"
   ]
  },
  {
   "cell_type": "code",
   "execution_count": 14,
   "metadata": {},
   "outputs": [
    {
     "data": {
      "text/plain": [
       "['Ford',\n",
       " 'Ford',\n",
       " 'Ford',\n",
       " 'Rentault',\n",
       " 'Skoda',\n",
       " 'Ford',\n",
       " 'Rentault',\n",
       " 'Ford',\n",
       " 'Toyota']"
      ]
     },
     "execution_count": 14,
     "metadata": {},
     "output_type": "execute_result"
    }
   ],
   "source": [
    "# random choice multiple items (this will sample the list but repeats)\n",
    "random.choices(makes, k=9) #k= number of items"
   ]
  },
  {
   "cell_type": "code",
   "execution_count": 15,
   "metadata": {},
   "outputs": [
    {
     "name": "stdout",
     "output_type": "stream",
     "text": [
      "['A', 'B', 'C', 'D', 'E', 'F', 'G', 'H']\n",
      "['G', 'B', 'E', 'D', 'A', 'H', 'C', 'F']\n"
     ]
    }
   ],
   "source": [
    "# Shuffle\n",
    "\n",
    "#List of latters\n",
    "letters = ['A', 'B', 'C', 'D', 'E', 'F', 'G', 'H']\n",
    "print(letters)\n",
    "#Shufle will randomise the list (originala list order is overwritten)\n",
    "random.shuffle(letters)\n",
    "print(letters)"
   ]
  },
  {
   "cell_type": "code",
   "execution_count": 16,
   "metadata": {},
   "outputs": [
    {
     "data": {
      "text/plain": [
       "['F', 'B', 'D', 'E', 'A']"
      ]
     },
     "execution_count": 16,
     "metadata": {},
     "output_type": "execute_result"
    }
   ],
   "source": [
    "# Sample (picks random samples from the list (doesn't repeat) \n",
    "\n",
    "random.sample(letters,k=5)"
   ]
  },
  {
   "cell_type": "code",
   "execution_count": 17,
   "metadata": {},
   "outputs": [
    {
     "name": "stdout",
     "output_type": "stream",
     "text": [
      "random=0.41780288765270746, uniform=8.884731453681228\n"
     ]
    }
   ],
   "source": [
    "# random float\n",
    "\n",
    "R=random.random() #will give a random number between 0.0 and 100.0\n",
    "U=random.uniform(1,9) #will give random number within range\n",
    "print(f'random={R}, uniform={U}')"
   ]
  },
  {
   "cell_type": "code",
   "execution_count": 18,
   "metadata": {},
   "outputs": [
    {
     "name": "stdout",
     "output_type": "stream",
     "text": [
      "[-0.36908624748880103, -0.12734923209841006, 0.1645091542444661, -0.06599031739404398, -0.006026910565275944, 0.05699944251587466, -0.15571648236430158, -0.005428439942065834, 0.134933092315287, -0.2680147268038742]\n"
     ]
    },
    {
     "data": {
      "text/plain": [
       "(array([1., 1., 0., 1., 1., 1., 2., 1., 0., 2.]),\n",
       " array([-0.36908625, -0.31572671, -0.26236717, -0.20900763, -0.15564809,\n",
       "        -0.10228855, -0.04892901,  0.00443053,  0.05779007,  0.11114961,\n",
       "         0.16450915]),\n",
       " <BarContainer object of 10 artists>)"
      ]
     },
     "execution_count": 18,
     "metadata": {},
     "output_type": "execute_result"
    },
    {
     "data": {
      "image/png": "[encoded data removed]",
      "text/plain": [
       "<Figure size 640x480 with 1 Axes>"
      ]
     },
     "metadata": {},
     "output_type": "display_data"
    }
   ],
   "source": [
    "#random.gauss gives a normal distribution from specified mean and standard deviation\n",
    "G = [random.gauss(0, 0.1) for i in range(10)]\n",
    "print(G)\n",
    "import matplotlib.pyplot as plt\n",
    "plt.hist(G, 10)"
   ]
  },
  {
   "cell_type": "markdown",
   "metadata": {},
   "source": [
    "***"
   ]
  },
  {
   "cell_type": "markdown",
   "metadata": {},
   "source": [
    "### Numpy Random\n",
    "[numpy API Reference: ](https://numpy.org/doc/stable/reference/random/index.html)\n",
    "https://numpy.org/doc/stable/reference/random/index.html"
   ]
  },
  {
   "cell_type": "code",
   "execution_count": 19,
   "metadata": {},
   "outputs": [],
   "source": [
    "import numpy as np\n",
    "\n",
    "rng = np.random.default_rng()"
   ]
  },
  {
   "cell_type": "code",
   "execution_count": 20,
   "metadata": {},
   "outputs": [
    {
     "data": {
      "text/plain": [
       "array([0.22337767, 0.99188231, 0.74754488, 0.00555564, 0.94670048,\n",
       "       0.22422904])"
      ]
     },
     "execution_count": 20,
     "metadata": {},
     "output_type": "execute_result"
    }
   ],
   "source": [
    "# Generate six random float uniformly distributed over the range [0.0, 1.0)\n",
    "rng.random(6)  "
   ]
  },
  {
   "cell_type": "markdown",
   "metadata": {},
   "source": [
    "#### Normal distribution\n",
    "'&mu;' is the mean - **the middle of the curve**, '&sigma;' is standard deviation - **the narrowness of the curve**\n",
    "\n",
    "![Normal Distribution](https://upload.wikimedia.org/wikipedia/commons/thumb/7/74/Normal_Distribution_PDF.svg/2880px-Normal_Distribution_PDF.svg.png)\n",
    "###### read: https://en.wikipedia.org/wiki/Normal_distribution"
   ]
  },
  {
   "cell_type": "markdown",
   "metadata": {},
   "source": [
    "Generate numbers on a standard distribution.\n",
    "The mean is 0.0, standard deviation is 1.0\n",
    "The numbers should be -on average- centred on 0.0\n",
    "More than 99% of the numbers generated should be in the interval of (-3.0, 3.0)"
   ]
  },
  {
   "cell_type": "code",
   "execution_count": 21,
   "metadata": {},
   "outputs": [
    {
     "data": {
      "text/plain": [
       "array([-0.09601662,  0.55797011,  1.72049772,  0.0463641 , -1.18931503,\n",
       "       -2.16073615])"
      ]
     },
     "execution_count": 21,
     "metadata": {},
     "output_type": "execute_result"
    }
   ],
   "source": [
    "# Generate numbers on a standard distribution. as per above\n",
    "rng.standard_normal(6)"
   ]
  },
  {
   "cell_type": "markdown",
   "metadata": {},
   "source": [
    "Generate random integers"
   ]
  },
  {
   "cell_type": "code",
   "execution_count": 22,
   "metadata": {},
   "outputs": [
    {
     "data": {
      "text/plain": [
       "array([17, 15, 18, 10, 11, 13, 11, 15, 17, 19], dtype=int64)"
      ]
     },
     "execution_count": 22,
     "metadata": {},
     "output_type": "execute_result"
    }
   ],
   "source": [
    "# Generate a list of 15 integers between 10 (included( and 20 (excluded)\n",
    "rng.integers(low=10, high=20, size=10) #low is inclusive, high is exlusive!"
   ]
  },
  {
   "cell_type": "code",
   "execution_count": 23,
   "metadata": {},
   "outputs": [
    {
     "name": "stdout",
     "output_type": "stream",
     "text": [
      "[ 2 10  4  1  1  8  4  8  9  9  7  5  1  1  9 10  9  7  8  7 10  1  4  9\n",
      " 10  8  5  8  4 10  4  3  2  3  7  9  9  2  3  9  7  8  7  9  4  6  5  1\n",
      "  9  6  6  8  9  3  3  1  6  8  1  4  7  9  7 10  5  4  9  4  1  5  4  4\n",
      "  2 10 10  2  8  8  2 10  2  8  7  7  2  9  9  4  2  3  4  4  7  4  7  8\n",
      "  2  1  1  6  1  5  8  5  7  3  3  8  3  7  9  8  3  3  2  3  3  1  6 10\n",
      "  5  1  7  3  4  3  6  5  7  7  5  8  5  4  1 10  1  4 10  7  2  4  8  8\n",
      "  1  1  9  5  8  4  1  7  4  6  5  3  2  2 10  4 10  9  6 10  3  8  4  5\n",
      "  8  6  7  6  9 10  5  4  9  1 10  5  6  2  4  4  7  5 10  5  4  7  2 10\n",
      "  8  8  9  8 10 10  4  3  8  5  6  8  7  5 10 10  2  6  8  3  3  4  1  1\n",
      "  5  1  5  9  2  5  4  5  9  7  3  4  9 10  2  4  7  1  9  9  2  7  8  2\n",
      "  8  1  6  3  8  7  5 10  7  2  2  6  2 10  6  8  4  3  3  9  3  7  8  6\n",
      "  7  3  2  5  3  5  7  8  6  7  3  3  6 10  5 10  6  8  4  1  6  6 10 10\n",
      " 10  8  9  4  6  7 10  6  7  3  8 10  5  8 10  9  7  4  2  6  1  1 10  1\n",
      "  6  6  4  2  7  3  9  9  6  6  1  2  1  4  5  4  2  7  4  8  5  1  3  1\n",
      "  4  3  3  4  8  5  8  6 10  9  1  5  3  5  2  6 10  9  8  2  5  6  2  3\n",
      "  9  6  9  8  7 10  3  6  6  5  5  3  4  2  3  2  2 10  7  3  5  6  3  3\n",
      "  8  5  3 10  7  8  1 10  5  7  7  3  1  4 10  2  4 10  4  2  3  8  4  3\n",
      " 10  7  3  1  9  4  1  8  8 10 10  8  2  8  7  9  6  1  4  8  7  4  8 10\n",
      "  8  9  5 10  6  7  1  5  9  8  7  1  8  3  6 10  4  9  9 10  8  2  5  5\n",
      "  1  5  2  9  3  8  4  5 10  7  7  6  1  3  6  2  8  3  3  1  8  3  7  3\n",
      "  2  1  3  9 10  5  7  9  1  9  9  7  6  2  4  8  2  3  3  6  1  9  2  6\n",
      "  3  5  5  9  3  1  5  5  5  4  4  3  2  6  7  5 10  1 10  2  5  4  3  8\n",
      "  1  8  2 10  3  2 10  7  1  6  5  4  8  5  5  8  6  7  6  2 10  2  8  3\n",
      "  9  2  8  2  5  9  3  4  2  2  8  9  5  9  3  3  7  5  2  6 10  7 10  6\n",
      "  3  3  5  6  3  4  2  9  7  8  1  4  8  3  8  6  2  1  8  7  4 10 10  8\n",
      "  1  9  9  5  4  6  7  4  2  3  7  8  9  1  3  2  4  9  6  2  8  4  7  5\n",
      "  4  5  2  7  1  4  8  7  5  7  4  9  7  5  8 10  8  3  6 10  6  7  9  1\n",
      "  8  9  4  6 10  7  5  6  7  3  9  5  9 10  6  4 10  4  7  8  7  3  1  1\n",
      "  3  4  3 10  4  7  2 10  9  4  1  2  5  4  5  2  1  9  2  7  3  3  3  8\n",
      "  4  8  7  7  2  5  3  9  8  7  2  6  9  6 10  3  1  1  9  7  4  5  7  2\n",
      "  7  4  7  3  7  9  2  8  6  4  4  9 10  4  1  6  3  5  6  1  3  1  4  8\n",
      "  4  6  7  5  3  2  4 10 10  1  8 10  4  3  2  6  9  5  6  6  1  1  8  1\n",
      "  4  3  2  8  7  1  3  2  9  9  7  9 10  7  1  7  1  8  5  8  1  4  1  3\n",
      "  7  2  7  6  1  2  9  2  7  8 10  5  8  4  4  9  7  4  2 10  7  5  3  7\n",
      "  3  7  2  6  7  8  7  8  5  8  9  6  8  5  2  4 10  6  2  5  7  2  8  5\n",
      "  4  1  3  2  6  3  1  1  3  1  8  6  4  1  7  4  9  5  2  8  8  2  9 10\n",
      "  6  3  2  6  1  1  7  3  4  4  3 10  1  8  3  3  7  2  5  4  4  3  6  5\n",
      "  6  7  6  7  4 10  1  1  2  7 10  8  8  5  3  7  3  9  6  9  5  9  8  5\n",
      "  9  6  9  5  7  4  1  8 10  6 10  4  8  4 10  4  4 10  5  2  2  4 10  5\n",
      "  5  7  2  3  2  6  9  8  3  7  8 10  5  5  9  9  8  9 10  5  8  8  9  3\n",
      "  5  3  5 10  5  3 10  5  1  9 10 10  3 10  1  4  5  8  2  7  2 10  6  1\n",
      "  6  7  4  2  6  5  1  1  1 10  4  2 10  3  7  8]\n"
     ]
    }
   ],
   "source": [
    "# generate 1000 random integers between 1-10\n",
    "rand_ints = rng.integers(low=1, high=11, size=1000)\n",
    "print(rand_ints)"
   ]
  },
  {
   "cell_type": "markdown",
   "metadata": {},
   "source": [
    "****"
   ]
  },
  {
   "cell_type": "markdown",
   "metadata": {},
   "source": [
    "## Plotting Distributions"
   ]
  },
  {
   "cell_type": "markdown",
   "metadata": {},
   "source": [
    "### Bar chart\n",
    "###### https://matplotlib.org/stable/api/_as_gen/matplotlib.pyplot.bar.html"
   ]
  },
  {
   "cell_type": "code",
   "execution_count": 24,
   "metadata": {},
   "outputs": [
    {
     "data": {
      "image/png": "[encoded data removed]",
      "text/plain": [
       "<Figure size 640x480 with 1 Axes>"
      ]
     },
     "metadata": {},
     "output_type": "display_data"
    }
   ],
   "source": [
    "import matplotlib.pyplot as plt\n",
    "\n",
    "# Anatomy of bar chart\n",
    "\n",
    "# create an empty plot\n",
    "fig, ax = plt.subplots()\n",
    "#Plot a bar chart.\n",
    "# matplotlib.pyplot.bar(x (the coordinates), height (the value), width=0.8, bottom=None (bottom value), align='center)\n",
    "ax.bar([1,2,3], [20,15,50], width=0.2, bottom=[-2,-5,10])\n",
    "plt.show()"
   ]
  },
  {
   "cell_type": "markdown",
   "metadata": {},
   "source": [
    "Plot random integers"
   ]
  },
  {
   "cell_type": "code",
   "execution_count": 25,
   "metadata": {},
   "outputs": [],
   "source": [
    "# dynamically generate random integers between 1-10\n",
    "    # with previous code: rng.integers(low=1, high=11, size=1000)\n",
    "\n",
    "# set parameters in variables for rng.integers function\n",
    "low= 1\n",
    "high = 10\n",
    "size = 1000\n",
    "\n",
    "# generate list of random integers\n",
    "rand_int= rng.integers(low=low, high=high+1, size=size)\n",
    "#rand_int"
   ]
  },
  {
   "cell_type": "code",
   "execution_count": 26,
   "metadata": {},
   "outputs": [],
   "source": [
    "# set up the bar chart parameters\n",
    "# we need the unique elements and count the frequency of their occurance\n",
    "# the unique elements will be the X coordinates\n",
    "# their frequency of occurence will be the height of the bars.\n",
    "# get coordinates for the bar charts (the x values)\n",
    "\n",
    "#x = np.arange(low, high +1.0, dtype=int) # this is the safer solution for x\n",
    "x, height=np.unique(rand_int, return_counts=True)\n",
    "#x, height"
   ]
  },
  {
   "cell_type": "code",
   "execution_count": 27,
   "metadata": {},
   "outputs": [
    {
     "data": {
      "text/plain": [
       "<BarContainer object of 10 artists>"
      ]
     },
     "execution_count": 27,
     "metadata": {},
     "output_type": "execute_result"
    },
    {
     "data": {
      "image/png": "[encoded data removed]",
      "text/plain": [
       "<Figure size 1200x300 with 1 Axes>"
      ]
     },
     "metadata": {},
     "output_type": "display_data"
    }
   ],
   "source": [
    "#draw bar chart\n",
    "fig, ax = plt.subplots(figsize=(12,3))\n",
    "ax.bar(x,height)"
   ]
  },
  {
   "cell_type": "markdown",
   "metadata": {},
   "source": [
    "### Histograms\n",
    "\n",
    "https://matplotlib.org/stable/api/_as_gen/matplotlib.pyplot.hist.html"
   ]
  },
  {
   "cell_type": "code",
   "execution_count": 28,
   "metadata": {},
   "outputs": [],
   "source": [
    "# set parameters for random float generation with rng.random() function\n",
    "size = 500\n",
    "rand_flo=rng.random(size)\n",
    "#rand_flo"
   ]
  },
  {
   "cell_type": "code",
   "execution_count": 29,
   "metadata": {},
   "outputs": [],
   "source": [
    "# for bar chart we need unique elements and their frequency\n",
    "x, height=np.unique(rand_flo, return_counts=True)\n",
    "#x,height"
   ]
  },
  {
   "cell_type": "code",
   "execution_count": 30,
   "metadata": {},
   "outputs": [
    {
     "data": {
      "text/plain": [
       "<BarContainer object of 500 artists>"
      ]
     },
     "execution_count": 30,
     "metadata": {},
     "output_type": "execute_result"
    },
    {
     "data": {
      "image/png": "[encoded data removed]",
      "text/plain": [
       "<Figure size 1200x300 with 1 Axes>"
      ]
     },
     "metadata": {},
     "output_type": "display_data"
    }
   ],
   "source": [
    "#draw a useless bar chart\n",
    "fig, ax = plt.subplots(figsize=(12,3))\n",
    "ax.bar(x,height, width=0.001)"
   ]
  },
  {
   "cell_type": "code",
   "execution_count": 31,
   "metadata": {},
   "outputs": [
    {
     "data": {
      "image/png": "[encoded data removed]",
      "text/plain": [
       "<Figure size 1200x300 with 1 Axes>"
      ]
     },
     "metadata": {},
     "output_type": "display_data"
    }
   ],
   "source": [
    "#draw a histogram - histogram doesn't need separate variables for unique and freq\n",
    "fig, ax = plt.subplots(figsize=(12,3))\n",
    "ax.hist(rand_flo,bins=20)\n",
    "plt.show()"
   ]
  },
  {
   "cell_type": "markdown",
   "metadata": {},
   "source": [
    "#### Normal Looking Data"
   ]
  },
  {
   "cell_type": "code",
   "execution_count": 32,
   "metadata": {},
   "outputs": [
    {
     "data": {
      "image/png": "[encoded data removed]",
      "text/plain": [
       "<Figure size 1200x300 with 1 Axes>"
      ]
     },
     "metadata": {},
     "output_type": "display_data"
    }
   ],
   "source": [
    "# Plot Normal distribution random numbers on Histogram:\n",
    "rand_norm=rng.standard_normal(100000) #10k normally distributed numbers\n",
    "fig, ax = plt.subplots(figsize=(12,3))\n",
    "ax.hist(rand_norm, bins=100, density=True)\n",
    "plt.show()"
   ]
  },
  {
   "cell_type": "markdown",
   "metadata": {},
   "source": [
    "### Plot two charts on one\n"
   ]
  },
  {
   "cell_type": "markdown",
   "metadata": {},
   "source": [
    "Standard Normal PDF (Probability Density Function)\n",
    "$$ f(x) = \\frac{1}{\\sqrt{2\\pi}} e^{-\\frac{x^2}{2}}\n",
    "$$"
   ]
  },
  {
   "cell_type": "markdown",
   "metadata": {},
   "source": [
    "The **normal PDF** typically refers to the probability density function of the normal distribution, which is also known as the Gaussian distribution. The probability density function (PDF) of the normal distribution with mean (μ) and standard deviation (σ)<br>"
   ]
  },
  {
   "cell_type": "code",
   "execution_count": 33,
   "metadata": {},
   "outputs": [],
   "source": [
    "# create Plot Standard Normal PDF function\n",
    "def f(x):\n",
    "    A = 1.0 / np.sqrt(2.0 * np.pi)\n",
    "    B = np.exp(-(x**2)/2.0)\n",
    "    return A * B"
   ]
  },
  {
   "cell_type": "code",
   "execution_count": 34,
   "metadata": {},
   "outputs": [
    {
     "data": {
      "text/plain": [
       "0.0044318484119380075"
      ]
     },
     "execution_count": 34,
     "metadata": {},
     "output_type": "execute_result"
    }
   ],
   "source": [
    "f(3.0)"
   ]
  },
  {
   "cell_type": "code",
   "execution_count": 38,
   "metadata": {},
   "outputs": [
    {
     "name": "stdout",
     "output_type": "stream",
     "text": [
      "[-5.   -4.99 -4.98 ...  4.98  4.99  5.  ]\n"
     ]
    },
    {
     "data": {
      "image/png": "[encoded data removed]",
      "text/plain": [
       "<Figure size 1200x400 with 1 Axes>"
      ]
     },
     "metadata": {},
     "output_type": "display_data"
    }
   ],
   "source": [
    "#plot Standard Normal PDF function f(x) on a line graph\n",
    "x=np.linspace(-5.0,5.0,1001) #evenly spaced array of 1000 items from -5 to 5\n",
    "fig, ax = plt.subplots(figsize=(12,4))\n",
    "#plot f(x)\n",
    "ax.plot(x,f(x), color='red')\n",
    "print(x)"
   ]
  },
  {
   "cell_type": "code",
   "execution_count": 36,
   "metadata": {},
   "outputs": [
    {
     "data": {
      "image/png": "[encoded data removed]",
      "text/plain": [
       "<Figure size 1200x400 with 1 Axes>"
      ]
     },
     "metadata": {},
     "output_type": "display_data"
    }
   ],
   "source": [
    "# two plots on one chart\n",
    "#plot PDF function f(x) and the prvious histogram\n",
    "fig, ax = plt.subplots(figsize=(12,4))\n",
    "ax.plot(x,f(x), color='red') #PDF function\n",
    "ax.hist(rand_norm, bins=100, density=True, color='green') #actual random data from histogram\n",
    "plt.show()"
   ]
  }
 ],
 "metadata": {
  "kernelspec": {
   "display_name": "base",
   "language": "python",
   "name": "python3"
  },
  "language_info": {
   "codemirror_mode": {
    "name": "ipython",
    "version": 3
   },
   "file_extension": ".py",
   "mimetype": "text/x-python",
   "name": "python",
   "nbconvert_exporter": "python",
   "pygments_lexer": "ipython3",
   "version": "3.9.13"
  },
  "orig_nbformat": 4
 },
 "nbformat": 4,
 "nbformat_minor": 2
}
