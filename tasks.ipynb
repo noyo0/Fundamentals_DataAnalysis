{
 "cells": [
  {
   "cell_type": "markdown",
   "metadata": {},
   "source": [
    "# Tasks"
   ]
  },
  {
   "cell_type": "markdown",
   "metadata": {},
   "source": [
    "## 1. Collatz Conjecture\n",
    "\n",
    "##### Task description:\n",
    "> The Collatz conjecture1 is a famous unsolved problem in mathematics. The problem is to prove that if you start with any positive\n",
    "integer x and repeatedly apply the function f(x) below, you always get stuck in the repeating sequence 1, 4, 2, 1, 4, 2, . . .\n",
    "$$ f(x) =\n",
    "\\begin{cases}\n",
    "    x \\div 2 & \\text{if } x \\text{ is even} \\\\\n",
    "    3x + 1 & \\text{otherwise}\n",
    "\\end{cases} $$\n",
    "\n",
    "The task is to verify, using Python, that the conjecture is true for the first 10,000 positive integers.\n",
    "\n",
    "###### - 1 The Simple Math Problem We Still Can’t Solve | Quanta Magazine. Sept. 22, 2020. url: https://www.quantamagazine.org/why-mathematicians-stillcant-solve-the-collatz-conjecture-20200922/(visitedon08/18/2023)\n",
    "\n",
    "    ***\n",
    "\n"
   ]
  },
  {
   "cell_type": "markdown",
   "metadata": {},
   "source": [
    "### Notes from lecture:"
   ]
  },
  {
   "cell_type": "code",
   "execution_count": 1,
   "metadata": {},
   "outputs": [],
   "source": [
    "x=5"
   ]
  },
  {
   "cell_type": "code",
   "execution_count": 2,
   "metadata": {},
   "outputs": [],
   "source": [
    "def f_collatz(x):\n",
    "    #if x is even, devide with 2\n",
    "    if x %2 == 0:\n",
    "        return x // 2\n",
    "    else:\n",
    "        return (3 * x) +1\n"
   ]
  },
  {
   "cell_type": "code",
   "execution_count": 3,
   "metadata": {},
   "outputs": [],
   "source": [
    "def loop_collatz(x):\n",
    "    while x!=1:\n",
    "        # print(x, end=', ')\n",
    "        x=f_collatz(x) \n",
    "    return x"
   ]
  },
  {
   "cell_type": "code",
   "execution_count": 4,
   "metadata": {},
   "outputs": [
    {
     "name": "stdout",
     "output_type": "stream",
     "text": [
      "\n",
      "Testing Collatz with initial value of: 3-> \n",
      "\t1\n"
     ]
    }
   ],
   "source": [
    "number=3\n",
    "print(f\"\\nTesting Collatz with initial value of: {number}-> \\n\\t{loop_collatz(number)}\")"
   ]
  },
  {
   "cell_type": "markdown",
   "metadata": {},
   "source": [
    "#### 1.1: Task planning\n",
    "\n",
    "The Collatz formula:\n",
    "$$ f(x) =\n",
    "\\begin{cases}\n",
    "    x \\div 2 & \\text{if } x \\text{ is even} \\\\\n",
    "    3x + 1 & \\text{otherwise}\n",
    "\\end{cases} $$\n",
    "##### *This process will eventually reach the number 1, regardless of which positive integer is chosen initially. (https://en.wikipedia.org/wiki/Collatz_conjecture)*\n",
    "\n",
    "In order to verify that the above is true for the first 10,000 positive integers, the program will generate and analyse a dataframe that consists of the \n",
    "-   sequence of the first 10,000 positive integers\n",
    "-   resulting Collatz values for each integer (this is not a necessary step, only to demonstrate Collatz is being calculated for each integer)\n",
    "-   the final value of the Collatz sequence which is expected to be 1 for each integer\n",
    "-   the last 3 items of each Collatz sequence to verify the predicted 4, 2, 1 cycle as demonstrated in the lecture\n",
    "The populated DataFrame then can be analysed with Panda's .describe() function to verify if the max values for the \"Final Value\" datapoint is indeed equals to 1, which would prove that running the Collatz calculation on the first 10,000 positive integers will always return 1.\n",
    "##### As a starting point, functions \"f_collatz()\" and \"loop_collatz()\" are being repurposed from the lecture notes.\n",
    "-   f_collatz() encapsulates the singular Collatz calculation (x/2 if x is even or 3x+1 if x is an odd one)\n",
    "-   loop_collatz() calls f_collatz and repeats it until x returns 1"
   ]
  },
  {
   "cell_type": "markdown",
   "metadata": {},
   "source": [
    "*To demonstrate that the Collatz calculation was actually carried out, the program will store Collatz values from each calculation in a list object*\n"
   ]
  },
  {
   "cell_type": "code",
   "execution_count": 5,
   "metadata": {},
   "outputs": [
    {
     "name": "stdout",
     "output_type": "stream",
     "text": [
      "[3, 10, 5, 16, 8, 4, 2, 1]\n"
     ]
    }
   ],
   "source": [
    "# function to store Collatz sequence to demonstrate calculation has carried out\n",
    "def store_collatz(x):\n",
    "    store=[] # create emty list conatiner\n",
    "    while x!=1:\n",
    "        x=f_collatz(x) # call Collatz function as per lecture notes\n",
    "        store.append(x) # store each iteration\n",
    "    return store #return container list\n",
    "# --- end of function\n",
    "print(store_collatz(6)) #check resulting list"
   ]
  },
  {
   "cell_type": "markdown",
   "metadata": {},
   "source": [
    "*Using a dictionary object the program will store the values in a labelled structure; \"Number\" to store each x integer, \"Collatz Values\" for each group of Collatz values and \"Final Value\" for the final Collatz value for each integer. Added last three Values to check the predicted 4, 2, 1 cycle as demonstrated in the lecture*"
   ]
  },
  {
   "cell_type": "code",
   "execution_count": 6,
   "metadata": {},
   "outputs": [
    {
     "name": "stdout",
     "output_type": "stream",
     "text": [
      "[{'Number': 1, 'Collatz Values': [], 'Final Value': 1, 'First of the Last Three Values': [], 'Mid of the Last Three Values': [], 'Last of the Last Three Values': []}, {'Number': 2, 'Collatz Values': [1], 'Final Value': 1, 'First of the Last Three Values': [1], 'Mid of the Last Three Values': [], 'Last of the Last Three Values': []}, {'Number': 3, 'Collatz Values': [10, 5, 16, 8, 4, 2, 1], 'Final Value': 1, 'First of the Last Three Values': [4], 'Mid of the Last Three Values': [2], 'Last of the Last Three Values': [1]}, {'Number': 4, 'Collatz Values': [2, 1], 'Final Value': 1, 'First of the Last Three Values': [2], 'Mid of the Last Three Values': [1], 'Last of the Last Three Values': []}, {'Number': 5, 'Collatz Values': [16, 8, 4, 2, 1], 'Final Value': 1, 'First of the Last Three Values': [4], 'Mid of the Last Three Values': [2], 'Last of the Last Three Values': [1]}, {'Number': 6, 'Collatz Values': [3, 10, 5, 16, 8, 4, 2, 1], 'Final Value': 1, 'First of the Last Three Values': [4], 'Mid of the Last Three Values': [2], 'Last of the Last Three Values': [1]}, {'Number': 7, 'Collatz Values': [22, 11, 34, 17, 52, 26, 13, 40, 20, 10, 5, 16, 8, 4, 2, 1], 'Final Value': 1, 'First of the Last Three Values': [4], 'Mid of the Last Three Values': [2], 'Last of the Last Three Values': [1]}]\n"
     ]
    }
   ],
   "source": [
    "# testing dictionary solution\n",
    "i=1 #iterator and initial positive integer for the Collatz calculation\n",
    "collstored=[] # container for Collatz Values\n",
    "collData=[] # container for dictionary items\n",
    "while i!=8: # loop until reaching 8 for testing purposes\n",
    "    collstored=store_collatz(i) # calling previously created function to populate list of Collatz Values\n",
    "    collDict={ #create labelled structure in Dictionary and populate\n",
    "        \"Number\":i, #starting number or x for each iteration\n",
    "        \"Collatz Values\":collstored, # list item for each list of Collatz values per iteration\n",
    "        \"Final Value\":loop_collatz(i), # calling function as per lecture notes that loops through the Collatz calculations until reaching 1 to store as final value \n",
    "                                    #(if the last value wasn't 1 at any of the positive integers, there would be an infinite loop and we won't have the result verifying the Collatz conjencture)\n",
    "        \"First of the Last Three Values\": collstored[-3:][0:1], # checking last 3 items being 4,2,1 as predicted by the Collatz conjecture\n",
    "        \"Mid of the Last Three Values\":collstored[-3:][1:2], # checking last 3 items being 4,2,1 as predicted by the Collatz conjecture\n",
    "        \"Last of the Last Three Values\":collstored[-3:][2:3] # checking last 3 items being 4,2,1 as predicted by the Collatz conjecture\n",
    "        }\n",
    "    collData.append(collDict) # conatiner for each iterated dictionary item\n",
    "    i=i+1 #iterator increased\n",
    "print(collData) #print list with all dictionary items generated\n"
   ]
  },
  {
   "cell_type": "markdown",
   "metadata": {},
   "source": [
    "*as the resulting dictionary has the necessary structure (labelled data) for creating a dataframe, the program will import pandas and generate a datarame from the data in the dictionary.*"
   ]
  },
  {
   "cell_type": "code",
   "execution_count": 7,
   "metadata": {},
   "outputs": [
    {
     "data": {
      "text/html": [
       "<div>\n",
       "<style scoped>\n",
       "    .dataframe tbody tr th:only-of-type {\n",
       "        vertical-align: middle;\n",
       "    }\n",
       "\n",
       "    .dataframe tbody tr th {\n",
       "        vertical-align: top;\n",
       "    }\n",
       "\n",
       "    .dataframe thead th {\n",
       "        text-align: right;\n",
       "    }\n",
       "</style>\n",
       "<table border=\"1\" class=\"dataframe\">\n",
       "  <thead>\n",
       "    <tr style=\"text-align: right;\">\n",
       "      <th></th>\n",
       "      <th>Number</th>\n",
       "      <th>Collatz Values</th>\n",
       "      <th>Final Value</th>\n",
       "      <th>First of the Last Three Values</th>\n",
       "      <th>Mid of the Last Three Values</th>\n",
       "      <th>Last of the Last Three Values</th>\n",
       "    </tr>\n",
       "  </thead>\n",
       "  <tbody>\n",
       "    <tr>\n",
       "      <th>0</th>\n",
       "      <td>1</td>\n",
       "      <td>[]</td>\n",
       "      <td>1</td>\n",
       "      <td>[]</td>\n",
       "      <td>[]</td>\n",
       "      <td>[]</td>\n",
       "    </tr>\n",
       "    <tr>\n",
       "      <th>1</th>\n",
       "      <td>2</td>\n",
       "      <td>[1]</td>\n",
       "      <td>1</td>\n",
       "      <td>[1]</td>\n",
       "      <td>[]</td>\n",
       "      <td>[]</td>\n",
       "    </tr>\n",
       "    <tr>\n",
       "      <th>2</th>\n",
       "      <td>3</td>\n",
       "      <td>[10, 5, 16, 8, 4, 2, 1]</td>\n",
       "      <td>1</td>\n",
       "      <td>[4]</td>\n",
       "      <td>[2]</td>\n",
       "      <td>[1]</td>\n",
       "    </tr>\n",
       "    <tr>\n",
       "      <th>3</th>\n",
       "      <td>4</td>\n",
       "      <td>[2, 1]</td>\n",
       "      <td>1</td>\n",
       "      <td>[2]</td>\n",
       "      <td>[1]</td>\n",
       "      <td>[]</td>\n",
       "    </tr>\n",
       "    <tr>\n",
       "      <th>4</th>\n",
       "      <td>5</td>\n",
       "      <td>[16, 8, 4, 2, 1]</td>\n",
       "      <td>1</td>\n",
       "      <td>[4]</td>\n",
       "      <td>[2]</td>\n",
       "      <td>[1]</td>\n",
       "    </tr>\n",
       "    <tr>\n",
       "      <th>5</th>\n",
       "      <td>6</td>\n",
       "      <td>[3, 10, 5, 16, 8, 4, 2, 1]</td>\n",
       "      <td>1</td>\n",
       "      <td>[4]</td>\n",
       "      <td>[2]</td>\n",
       "      <td>[1]</td>\n",
       "    </tr>\n",
       "    <tr>\n",
       "      <th>6</th>\n",
       "      <td>7</td>\n",
       "      <td>[22, 11, 34, 17, 52, 26, 13, 40, 20, 10, 5, 16...</td>\n",
       "      <td>1</td>\n",
       "      <td>[4]</td>\n",
       "      <td>[2]</td>\n",
       "      <td>[1]</td>\n",
       "    </tr>\n",
       "  </tbody>\n",
       "</table>\n",
       "</div>"
      ],
      "text/plain": [
       "   Number                                     Collatz Values  Final Value  \\\n",
       "0       1                                                 []            1   \n",
       "1       2                                                [1]            1   \n",
       "2       3                            [10, 5, 16, 8, 4, 2, 1]            1   \n",
       "3       4                                             [2, 1]            1   \n",
       "4       5                                   [16, 8, 4, 2, 1]            1   \n",
       "5       6                         [3, 10, 5, 16, 8, 4, 2, 1]            1   \n",
       "6       7  [22, 11, 34, 17, 52, 26, 13, 40, 20, 10, 5, 16...            1   \n",
       "\n",
       "  First of the Last Three Values Mid of the Last Three Values  \\\n",
       "0                             []                           []   \n",
       "1                            [1]                           []   \n",
       "2                            [4]                          [2]   \n",
       "3                            [2]                          [1]   \n",
       "4                            [4]                          [2]   \n",
       "5                            [4]                          [2]   \n",
       "6                            [4]                          [2]   \n",
       "\n",
       "  Last of the Last Three Values  \n",
       "0                            []  \n",
       "1                            []  \n",
       "2                           [1]  \n",
       "3                            []  \n",
       "4                           [1]  \n",
       "5                           [1]  \n",
       "6                           [1]  "
      ]
     },
     "execution_count": 7,
     "metadata": {},
     "output_type": "execute_result"
    }
   ],
   "source": [
    "import pandas as pd\n",
    "df=pd.DataFrame(collData) #converting dictionary data into a dataframe\n",
    "df.head(15) #check result"
   ]
  },
  {
   "cell_type": "markdown",
   "metadata": {},
   "source": [
    "*The resulting dataframe now can be analysed with Panda's .describe() function to find max value for final values*"
   ]
  },
  {
   "cell_type": "code",
   "execution_count": 8,
   "metadata": {},
   "outputs": [
    {
     "data": {
      "text/html": [
       "<div>\n",
       "<style scoped>\n",
       "    .dataframe tbody tr th:only-of-type {\n",
       "        vertical-align: middle;\n",
       "    }\n",
       "\n",
       "    .dataframe tbody tr th {\n",
       "        vertical-align: top;\n",
       "    }\n",
       "\n",
       "    .dataframe thead th {\n",
       "        text-align: right;\n",
       "    }\n",
       "</style>\n",
       "<table border=\"1\" class=\"dataframe\">\n",
       "  <thead>\n",
       "    <tr style=\"text-align: right;\">\n",
       "      <th></th>\n",
       "      <th>Number</th>\n",
       "      <th>Final Value</th>\n",
       "    </tr>\n",
       "  </thead>\n",
       "  <tbody>\n",
       "    <tr>\n",
       "      <th>count</th>\n",
       "      <td>7.000000</td>\n",
       "      <td>7.0</td>\n",
       "    </tr>\n",
       "    <tr>\n",
       "      <th>mean</th>\n",
       "      <td>4.000000</td>\n",
       "      <td>1.0</td>\n",
       "    </tr>\n",
       "    <tr>\n",
       "      <th>std</th>\n",
       "      <td>2.160247</td>\n",
       "      <td>0.0</td>\n",
       "    </tr>\n",
       "    <tr>\n",
       "      <th>min</th>\n",
       "      <td>1.000000</td>\n",
       "      <td>1.0</td>\n",
       "    </tr>\n",
       "    <tr>\n",
       "      <th>25%</th>\n",
       "      <td>2.500000</td>\n",
       "      <td>1.0</td>\n",
       "    </tr>\n",
       "    <tr>\n",
       "      <th>50%</th>\n",
       "      <td>4.000000</td>\n",
       "      <td>1.0</td>\n",
       "    </tr>\n",
       "    <tr>\n",
       "      <th>75%</th>\n",
       "      <td>5.500000</td>\n",
       "      <td>1.0</td>\n",
       "    </tr>\n",
       "    <tr>\n",
       "      <th>max</th>\n",
       "      <td>7.000000</td>\n",
       "      <td>1.0</td>\n",
       "    </tr>\n",
       "  </tbody>\n",
       "</table>\n",
       "</div>"
      ],
      "text/plain": [
       "         Number  Final Value\n",
       "count  7.000000          7.0\n",
       "mean   4.000000          1.0\n",
       "std    2.160247          0.0\n",
       "min    1.000000          1.0\n",
       "25%    2.500000          1.0\n",
       "50%    4.000000          1.0\n",
       "75%    5.500000          1.0\n",
       "max    7.000000          1.0"
      ]
     },
     "execution_count": 8,
     "metadata": {},
     "output_type": "execute_result"
    }
   ],
   "source": [
    "df.describe()"
   ]
  },
  {
   "cell_type": "markdown",
   "metadata": {},
   "source": [
    "##### *.describe() returned the expected max value and min value (1.0) for the \"Final Value\" column in the test dataframe*\n",
    "> *note: (.describe() can only analyse numbers therefore it disregarded list data stored in \"Collatz Values\" and \"Last Three Items\")*"
   ]
  },
  {
   "cell_type": "markdown",
   "metadata": {},
   "source": [
    "With the individual steps tested and returning the expected results, these will be merged into one function \"CollatzVerify()\", so it can be called with any positive integer"
   ]
  },
  {
   "cell_type": "code",
   "execution_count": 9,
   "metadata": {},
   "outputs": [],
   "source": [
    "def CollatzVerify(maxNum):\n",
    "    import pandas as pd #pandas module imported\n",
    "    i=1 #iterator and starting number for Collatz\n",
    "    collstored=[] # container for stored Collatz seqence for each integer\n",
    "    collData=[] # dictionary container for labeled data\n",
    "    \n",
    "    #populating dictionary object with each iteration using while loop\n",
    "    while i!=maxNum+1: # maxNum will determine the scope of the calculation as per function parameter (+1 to compensate for python's counting starting with 0) \n",
    "        collstored=store_collatz(i) #call function to store Collatz sequence for each iteration\n",
    "        collDict={ #populate dictionary object\n",
    "        \"Number\":i, #i=each number in the iterator\n",
    "        \"Collatz Values\":collstored, #seqence calculated by store_collatz()\n",
    "        \"Final Value\":loop_collatz(i), # end of collatz sequence (I couldn't store the sliced list data as integer hence the calculation)\n",
    "        \"Last Three Values\":collstored[-3:], # slicing out last 3 items from Collatz values (4,2,1 was predicted)\n",
    "        }\n",
    "        collData.append(collDict) #adding all above to existing dictionary data\n",
    "        i=i+1 #increase iteration by 1\n",
    "    #end of while loop\n",
    "    df=pd.DataFrame(collData) #after the while-loop is finished the resulting dictionary object is converted to a dataframe with pandas.\n",
    "    print(f\"Verifying that last item of the Collatz sequence for the first {maxNum} positive integers is 1.0\\n\") #user interaction - function description with scope indicated\n",
    "    print(f\"DataFrame Analysis:\\n{df.describe()}\") # display results of dataframe analysis with describe()\n",
    "    print(\"\\nDataframe structure sample:\")\n",
    "    return(df) #show sample of the dataframe (this will show first and last 5 rows)\n",
    "#___End of combined function___"
   ]
  },
  {
   "cell_type": "markdown",
   "metadata": {},
   "source": [
    "Calling the merged function CollatzVerify() with 10,000"
   ]
  },
  {
   "cell_type": "code",
   "execution_count": 10,
   "metadata": {},
   "outputs": [
    {
     "name": "stdout",
     "output_type": "stream",
     "text": [
      "Verifying that last item of the Collatz sequence for the first 10000 positive integers is 1.0\n",
      "\n",
      "DataFrame Analysis:\n",
      "            Number  Final Value\n",
      "count  10000.00000      10000.0\n",
      "mean    5000.50000          1.0\n",
      "std     2886.89568          0.0\n",
      "min        1.00000          1.0\n",
      "25%     2500.75000          1.0\n",
      "50%     5000.50000          1.0\n",
      "75%     7500.25000          1.0\n",
      "max    10000.00000          1.0\n",
      "\n",
      "Dataframe structure sample:\n"
     ]
    },
    {
     "data": {
      "text/html": [
       "<div>\n",
       "<style scoped>\n",
       "    .dataframe tbody tr th:only-of-type {\n",
       "        vertical-align: middle;\n",
       "    }\n",
       "\n",
       "    .dataframe tbody tr th {\n",
       "        vertical-align: top;\n",
       "    }\n",
       "\n",
       "    .dataframe thead th {\n",
       "        text-align: right;\n",
       "    }\n",
       "</style>\n",
       "<table border=\"1\" class=\"dataframe\">\n",
       "  <thead>\n",
       "    <tr style=\"text-align: right;\">\n",
       "      <th></th>\n",
       "      <th>Number</th>\n",
       "      <th>Collatz Values</th>\n",
       "      <th>Final Value</th>\n",
       "      <th>Last Three Values</th>\n",
       "    </tr>\n",
       "  </thead>\n",
       "  <tbody>\n",
       "    <tr>\n",
       "      <th>0</th>\n",
       "      <td>1</td>\n",
       "      <td>[]</td>\n",
       "      <td>1</td>\n",
       "      <td>[]</td>\n",
       "    </tr>\n",
       "    <tr>\n",
       "      <th>1</th>\n",
       "      <td>2</td>\n",
       "      <td>[1]</td>\n",
       "      <td>1</td>\n",
       "      <td>[1]</td>\n",
       "    </tr>\n",
       "    <tr>\n",
       "      <th>2</th>\n",
       "      <td>3</td>\n",
       "      <td>[10, 5, 16, 8, 4, 2, 1]</td>\n",
       "      <td>1</td>\n",
       "      <td>[4, 2, 1]</td>\n",
       "    </tr>\n",
       "    <tr>\n",
       "      <th>3</th>\n",
       "      <td>4</td>\n",
       "      <td>[2, 1]</td>\n",
       "      <td>1</td>\n",
       "      <td>[2, 1]</td>\n",
       "    </tr>\n",
       "    <tr>\n",
       "      <th>4</th>\n",
       "      <td>5</td>\n",
       "      <td>[16, 8, 4, 2, 1]</td>\n",
       "      <td>1</td>\n",
       "      <td>[4, 2, 1]</td>\n",
       "    </tr>\n",
       "    <tr>\n",
       "      <th>...</th>\n",
       "      <td>...</td>\n",
       "      <td>...</td>\n",
       "      <td>...</td>\n",
       "      <td>...</td>\n",
       "    </tr>\n",
       "    <tr>\n",
       "      <th>9995</th>\n",
       "      <td>9996</td>\n",
       "      <td>[4998, 2499, 7498, 3749, 11248, 5624, 2812, 14...</td>\n",
       "      <td>1</td>\n",
       "      <td>[4, 2, 1]</td>\n",
       "    </tr>\n",
       "    <tr>\n",
       "      <th>9996</th>\n",
       "      <td>9997</td>\n",
       "      <td>[29992, 14996, 7498, 3749, 11248, 5624, 2812, ...</td>\n",
       "      <td>1</td>\n",
       "      <td>[4, 2, 1]</td>\n",
       "    </tr>\n",
       "    <tr>\n",
       "      <th>9997</th>\n",
       "      <td>9998</td>\n",
       "      <td>[4999, 14998, 7499, 22498, 11249, 33748, 16874...</td>\n",
       "      <td>1</td>\n",
       "      <td>[4, 2, 1]</td>\n",
       "    </tr>\n",
       "    <tr>\n",
       "      <th>9998</th>\n",
       "      <td>9999</td>\n",
       "      <td>[29998, 14999, 44998, 22499, 67498, 33749, 101...</td>\n",
       "      <td>1</td>\n",
       "      <td>[4, 2, 1]</td>\n",
       "    </tr>\n",
       "    <tr>\n",
       "      <th>9999</th>\n",
       "      <td>10000</td>\n",
       "      <td>[5000, 2500, 1250, 625, 1876, 938, 469, 1408, ...</td>\n",
       "      <td>1</td>\n",
       "      <td>[4, 2, 1]</td>\n",
       "    </tr>\n",
       "  </tbody>\n",
       "</table>\n",
       "<p>10000 rows × 4 columns</p>\n",
       "</div>"
      ],
      "text/plain": [
       "      Number                                     Collatz Values  Final Value  \\\n",
       "0          1                                                 []            1   \n",
       "1          2                                                [1]            1   \n",
       "2          3                            [10, 5, 16, 8, 4, 2, 1]            1   \n",
       "3          4                                             [2, 1]            1   \n",
       "4          5                                   [16, 8, 4, 2, 1]            1   \n",
       "...      ...                                                ...          ...   \n",
       "9995    9996  [4998, 2499, 7498, 3749, 11248, 5624, 2812, 14...            1   \n",
       "9996    9997  [29992, 14996, 7498, 3749, 11248, 5624, 2812, ...            1   \n",
       "9997    9998  [4999, 14998, 7499, 22498, 11249, 33748, 16874...            1   \n",
       "9998    9999  [29998, 14999, 44998, 22499, 67498, 33749, 101...            1   \n",
       "9999   10000  [5000, 2500, 1250, 625, 1876, 938, 469, 1408, ...            1   \n",
       "\n",
       "     Last Three Values  \n",
       "0                   []  \n",
       "1                  [1]  \n",
       "2            [4, 2, 1]  \n",
       "3               [2, 1]  \n",
       "4            [4, 2, 1]  \n",
       "...                ...  \n",
       "9995         [4, 2, 1]  \n",
       "9996         [4, 2, 1]  \n",
       "9997         [4, 2, 1]  \n",
       "9998         [4, 2, 1]  \n",
       "9999         [4, 2, 1]  \n",
       "\n",
       "[10000 rows x 4 columns]"
      ]
     },
     "execution_count": 10,
     "metadata": {},
     "output_type": "execute_result"
    }
   ],
   "source": [
    "CollatzVerify(10000)"
   ]
  },
  {
   "cell_type": "markdown",
   "metadata": {},
   "source": [
    "Running .describe() on the resulting dataframe after calling CollatzVerify() function with 10000, returns the expected result. \n",
    "\n",
    "- 'count' verifies that the dataframe has 10000 'Number' items and 10000 'Final value' items therefore the Collatz function was carried out 10000 times\n",
    "- The 'min' value for 'Number' is 1.0, the 'max' is 10000.0 which confirms the range is indeed the first 10000 positive integers \n",
    "- 'min' and 'max' values for 'Final Value' are both 1.0 which means all 10000 Collatz sequences ended with 1.\n",
    "\n",
    "Above considered, the Collatz conjecture is verified for the first 10000 positive integers.\n",
    "\n",
    "As .describe() doesn't deal with python list objects, a sample of the dataframe is included to prove all elements are present including Collatz Values and Last Three Values.\n",
    "\n",
    "> Note: Perhaps a simpler method could have been to encapsulate the loop_collatz() function in another loop that runs 10,000 times and increases the parameter by 1 when loop_collatz() gets to 1. In this case if there is no infinite loop error the Collatz conjecture must be true. However, there would be no 'evidence' after the 10,000 loops finished."
   ]
  },
  {
   "cell_type": "markdown",
   "metadata": {},
   "source": [
    "#### End of Task1. - Collatz Conjecture\n",
    "___\n",
    "***\n"
   ]
  },
  {
   "cell_type": "markdown",
   "metadata": {},
   "source": [
    "## Task 2 - Penguin data set\n",
    "\n",
    "##### Task description:\n",
    ">Give an overview of the famous penguins data set, explaining the types of variables it contains. Suggest the types of variables\n",
    ">that should be used to model them in Python, explaining your\n",
    ">rationale.\n",
    "\n"
   ]
  },
  {
   "cell_type": "markdown",
   "metadata": {},
   "source": [
    "### 2.1 Overview: The Palmer Penguins Dataset \n",
    "\n",
    "The Palmer Penguins Dataset is a commonly used alternative and very similar to the famous Iris dataset for learning data exploration and visualization.\n",
    "The data was gathered and published by Dr. Kristen Gorman and the Palmer Station, Antarctica LTER, a Long Term Ecological Research Network member. \n",
    "It is a dataset comprising various measurements for 344 penguins of three different penguin species, collected from 3 islands in the Palmer Archipelago, Antarctica. \n",
    "###### (F. Spire, Palmer Penguins - Data Preprocessing and Analysis, 2021, https://www.kaggle.com/code/florianspire/palmer-penguins-data-preprocessing-and-analysis (visited 08/10/23))<br>(S. K. Dash, Data Exploration and Visualisation Using Palmer Penguins Dataset, 2022, https://www.analyticsvidhya.com/blog/2022/04/data-exploration-and-visualisation-using-palmer-penguins-dataset/ (visited 08/10/23))\n"
   ]
  },
  {
   "cell_type": "markdown",
   "metadata": {},
   "source": [
    "#### 2.2 Obtaining the data\n",
    "> The task description provided a link to the dataset on Github. By visual overview it has data organized in 7 columns and 345 rows. Some data is missing.\n",
    "<br> \n",
    "\n",
    "The dataset is imported directly from the github location then converted to dataframe. \n",
    "+ After conversion, the resulting dataframe is exported as .csv to the local folder. \n",
    "+ A sample of the dataframe is generated to verify the resulting structure is matching the source on github.\n",
    "+ Running pandas .dtypes command to verify data types for each column\n",
    "\n",
    "###### mwaskom/seaborn-data: Data repository, for seaborn examples. Aug. 30, 2023. url: https://github.com/mwaskom/seaborn-data/blob/master/penguins.csv (visited on 9/10/2023)."
   ]
  },
  {
   "cell_type": "code",
   "execution_count": 11,
   "metadata": {},
   "outputs": [
    {
     "ename": "PermissionError",
     "evalue": "[Errno 13] Permission denied: 'penguines.csv'",
     "output_type": "error",
     "traceback": [
      "\u001b[1;31m---------------------------------------------------------------------------\u001b[0m",
      "\u001b[1;31mPermissionError\u001b[0m                           Traceback (most recent call last)",
      "\u001b[1;32m~\\AppData\\Local\\Temp\\ipykernel_13036\\638366617.py\u001b[0m in \u001b[0;36m<module>\u001b[1;34m\u001b[0m\n\u001b[0;32m      3\u001b[0m \u001b[0murl\u001b[0m \u001b[1;33m=\u001b[0m \u001b[1;34m'https://github.com/mwaskom/seaborn-data/blob/master/penguins.csv?raw=true'\u001b[0m \u001b[1;31m# had to add ?raw=true to the end to make it work (source: https://stackoverflow.com/questions/55240330/how-to-read-csv-file-from-github-using-pandas)\u001b[0m\u001b[1;33m\u001b[0m\u001b[1;33m\u001b[0m\u001b[0m\n\u001b[0;32m      4\u001b[0m \u001b[0mdf\u001b[0m \u001b[1;33m=\u001b[0m \u001b[0mpd\u001b[0m\u001b[1;33m.\u001b[0m\u001b[0mread_csv\u001b[0m\u001b[1;33m(\u001b[0m\u001b[0murl\u001b[0m\u001b[1;33m)\u001b[0m\u001b[1;33m\u001b[0m\u001b[1;33m\u001b[0m\u001b[0m\n\u001b[1;32m----> 5\u001b[1;33m \u001b[0mdf\u001b[0m\u001b[1;33m.\u001b[0m\u001b[0mto_csv\u001b[0m\u001b[1;33m(\u001b[0m\u001b[1;34m\"penguines.csv\"\u001b[0m\u001b[1;33m,\u001b[0m \u001b[0mindex\u001b[0m\u001b[1;33m=\u001b[0m\u001b[1;32mFalse\u001b[0m\u001b[1;33m)\u001b[0m \u001b[1;31m# save downloaded dataframe in local folder as csv\u001b[0m\u001b[1;33m\u001b[0m\u001b[1;33m\u001b[0m\u001b[0m\n\u001b[0m\u001b[0;32m      6\u001b[0m \u001b[0mprint\u001b[0m\u001b[1;33m(\u001b[0m\u001b[1;34mf'sample:\\n{df.head(3)}'\u001b[0m\u001b[1;33m)\u001b[0m \u001b[1;31m# check resulting dataframe\u001b[0m\u001b[1;33m\u001b[0m\u001b[1;33m\u001b[0m\u001b[0m\n\u001b[0;32m      7\u001b[0m \u001b[0mprint\u001b[0m\u001b[1;33m(\u001b[0m\u001b[1;34mf'\\ndata types:\\n{df.dtypes}'\u001b[0m\u001b[1;33m)\u001b[0m \u001b[1;31m# check datatypes in the dataframe (source: https://pandas.pydata.org/docs/reference/api/pandas.DataFrame.dtypes.html)\u001b[0m\u001b[1;33m\u001b[0m\u001b[1;33m\u001b[0m\u001b[0m\n",
      "\u001b[1;32mc:\\Users\\norbe\\anaconda3\\lib\\site-packages\\pandas\\core\\generic.py\u001b[0m in \u001b[0;36mto_csv\u001b[1;34m(self, path_or_buf, sep, na_rep, float_format, columns, header, index, index_label, mode, encoding, compression, quoting, quotechar, line_terminator, chunksize, date_format, doublequote, escapechar, decimal, errors, storage_options)\u001b[0m\n\u001b[0;32m   3549\u001b[0m         )\n\u001b[0;32m   3550\u001b[0m \u001b[1;33m\u001b[0m\u001b[0m\n\u001b[1;32m-> 3551\u001b[1;33m         return DataFrameRenderer(formatter).to_csv(\n\u001b[0m\u001b[0;32m   3552\u001b[0m             \u001b[0mpath_or_buf\u001b[0m\u001b[1;33m,\u001b[0m\u001b[1;33m\u001b[0m\u001b[1;33m\u001b[0m\u001b[0m\n\u001b[0;32m   3553\u001b[0m             \u001b[0mline_terminator\u001b[0m\u001b[1;33m=\u001b[0m\u001b[0mline_terminator\u001b[0m\u001b[1;33m,\u001b[0m\u001b[1;33m\u001b[0m\u001b[1;33m\u001b[0m\u001b[0m\n",
      "\u001b[1;32mc:\\Users\\norbe\\anaconda3\\lib\\site-packages\\pandas\\io\\formats\\format.py\u001b[0m in \u001b[0;36mto_csv\u001b[1;34m(self, path_or_buf, encoding, sep, columns, index_label, mode, compression, quoting, quotechar, line_terminator, chunksize, date_format, doublequote, escapechar, errors, storage_options)\u001b[0m\n\u001b[0;32m   1178\u001b[0m             \u001b[0mformatter\u001b[0m\u001b[1;33m=\u001b[0m\u001b[0mself\u001b[0m\u001b[1;33m.\u001b[0m\u001b[0mfmt\u001b[0m\u001b[1;33m,\u001b[0m\u001b[1;33m\u001b[0m\u001b[1;33m\u001b[0m\u001b[0m\n\u001b[0;32m   1179\u001b[0m         )\n\u001b[1;32m-> 1180\u001b[1;33m         \u001b[0mcsv_formatter\u001b[0m\u001b[1;33m.\u001b[0m\u001b[0msave\u001b[0m\u001b[1;33m(\u001b[0m\u001b[1;33m)\u001b[0m\u001b[1;33m\u001b[0m\u001b[1;33m\u001b[0m\u001b[0m\n\u001b[0m\u001b[0;32m   1181\u001b[0m \u001b[1;33m\u001b[0m\u001b[0m\n\u001b[0;32m   1182\u001b[0m         \u001b[1;32mif\u001b[0m \u001b[0mcreated_buffer\u001b[0m\u001b[1;33m:\u001b[0m\u001b[1;33m\u001b[0m\u001b[1;33m\u001b[0m\u001b[0m\n",
      "\u001b[1;32mc:\\Users\\norbe\\anaconda3\\lib\\site-packages\\pandas\\io\\formats\\csvs.py\u001b[0m in \u001b[0;36msave\u001b[1;34m(self)\u001b[0m\n\u001b[0;32m    239\u001b[0m         \"\"\"\n\u001b[0;32m    240\u001b[0m         \u001b[1;31m# apply compression and byte/text conversion\u001b[0m\u001b[1;33m\u001b[0m\u001b[1;33m\u001b[0m\u001b[0m\n\u001b[1;32m--> 241\u001b[1;33m         with get_handle(\n\u001b[0m\u001b[0;32m    242\u001b[0m             \u001b[0mself\u001b[0m\u001b[1;33m.\u001b[0m\u001b[0mfilepath_or_buffer\u001b[0m\u001b[1;33m,\u001b[0m\u001b[1;33m\u001b[0m\u001b[1;33m\u001b[0m\u001b[0m\n\u001b[0;32m    243\u001b[0m             \u001b[0mself\u001b[0m\u001b[1;33m.\u001b[0m\u001b[0mmode\u001b[0m\u001b[1;33m,\u001b[0m\u001b[1;33m\u001b[0m\u001b[1;33m\u001b[0m\u001b[0m\n",
      "\u001b[1;32mc:\\Users\\norbe\\anaconda3\\lib\\site-packages\\pandas\\io\\common.py\u001b[0m in \u001b[0;36mget_handle\u001b[1;34m(path_or_buf, mode, encoding, compression, memory_map, is_text, errors, storage_options)\u001b[0m\n\u001b[0;32m    784\u001b[0m         \u001b[1;32mif\u001b[0m \u001b[0mioargs\u001b[0m\u001b[1;33m.\u001b[0m\u001b[0mencoding\u001b[0m \u001b[1;32mand\u001b[0m \u001b[1;34m\"b\"\u001b[0m \u001b[1;32mnot\u001b[0m \u001b[1;32min\u001b[0m \u001b[0mioargs\u001b[0m\u001b[1;33m.\u001b[0m\u001b[0mmode\u001b[0m\u001b[1;33m:\u001b[0m\u001b[1;33m\u001b[0m\u001b[1;33m\u001b[0m\u001b[0m\n\u001b[0;32m    785\u001b[0m             \u001b[1;31m# Encoding\u001b[0m\u001b[1;33m\u001b[0m\u001b[1;33m\u001b[0m\u001b[0m\n\u001b[1;32m--> 786\u001b[1;33m             handle = open(\n\u001b[0m\u001b[0;32m    787\u001b[0m                 \u001b[0mhandle\u001b[0m\u001b[1;33m,\u001b[0m\u001b[1;33m\u001b[0m\u001b[1;33m\u001b[0m\u001b[0m\n\u001b[0;32m    788\u001b[0m                 \u001b[0mioargs\u001b[0m\u001b[1;33m.\u001b[0m\u001b[0mmode\u001b[0m\u001b[1;33m,\u001b[0m\u001b[1;33m\u001b[0m\u001b[1;33m\u001b[0m\u001b[0m\n",
      "\u001b[1;31mPermissionError\u001b[0m: [Errno 13] Permission denied: 'penguines.csv'"
     ]
    }
   ],
   "source": [
    "#importing penguins dataset from github link in task description\n",
    "import pandas as pd\n",
    "url = 'https://github.com/mwaskom/seaborn-data/blob/master/penguins.csv?raw=true' # had to add ?raw=true to the end to make it work (source: https://stackoverflow.com/questions/55240330/how-to-read-csv-file-from-github-using-pandas)\n",
    "df = pd.read_csv(url)\n",
    "df.to_csv(\"penguines.csv\", index=False) # save downloaded dataframe in local folder as csv\n",
    "print(f'sample:\\n{df.head(3)}') # check resulting dataframe\n",
    "print(f'\\ndata types:\\n{df.dtypes}') # check datatypes in the dataframe (source: https://pandas.pydata.org/docs/reference/api/pandas.DataFrame.dtypes.html)"
   ]
  },
  {
   "cell_type": "markdown",
   "metadata": {},
   "source": [
    "#### 2.2.1 Verification and quick overview of imported data\n",
    "\n",
    "+ The resulting dataframe structure and the first 3 raws of data matches the source on Github.\n",
    "+ .dtypes command returns **'object'** for the text and **'float64'** for numerical data:\n",
    "  * data types for each variables:\n",
    "    - island: object\n",
    "    - bill_length_mm: float64\n",
    "    - bill_depth_mm: float64\n",
    "    - flipper_length_mm: float64\n",
    "    - body_mass_g: float64\n",
    "    - sex: object\n",
    "\n",
    "**'object'** is the pandas equivalent to python's 'string' datatype. It is the most general datatype and can contain both numbers (as characters) and strings <br>\n",
    "**'float64'** is a pandas datatype for numberic characters and it is automatically assigned to columns that contain numeric characters with decimal point and/or NaN values\n",
    "\n",
    "###### pandas.DataFrame.dtypes (https://pandas.pydata.org/docs/reference/api/pandas.DataFrame.dtypes.html) <br> Data Analysis and Visualization in Python for Ecologists, Data Types and Formats (https://datacarpentry.org/python-ecology-lesson/04-data-types-and-format.html)\n",
    "\n"
   ]
  },
  {
   "cell_type": "markdown",
   "metadata": {},
   "source": [
    "#### 2.3.1 Explaining the types of variables it contains\n",
    "\n",
    "The Penguin dataset contains 7 variables\n",
    " 1. *species* - Categorical (Nominal)\n",
    "   - Data in the first column describes what species is the sample from. It is Qualitative, Nominal type, containing textual, descriptive information that cannot be measured but can be used to cathegorise or establish group affiliation.\n",
    " 2. *island* - Categorical (Nominal)\n",
    "   - Data describes where the sample is from. It is also Qualitative, Nominal type, containing textual, descriptive information.\n",
    " 3. *bill_length_mm* - Continuous (Ratio)\n",
    " 4. *bill_depth_mm* - Continuous (Ratio)\n",
    " 5. *flipper_length_mm* - Continuous (Ratio)\n",
    " 6. *body_mass_g* - Continuous (Ratio)\n",
    "   - variables above (2., 3., 4. and 5.) contain biometric data for the penguins. The data is Quantitative containing numerical information that can be measured. It is also Continuous type for the data can be represented as real numbers. Furthermore, the data is a Ratio type. Although there are equal intervals between consecutive values similarly to Interval type data, these measurements can't have negative values, there is a true zero point therefore these are Ratio type data.\n",
    " 7. *sex* - Categorical (Dichotomous)\n",
    "   - This column contains Dichotomous data, a special form of the Nominal type. It is descriptive and non-numerical, but it can only take one of two mutually exclusive values (Male or Female in this case).\n",
    "\n",
    "###### Types of data & the scales of measurement, UNSW, Sydney 2020 (https://studyonline.unsw.edu.au/blog/types-of-data#:~:text=Properties%20and%20scales%20of%20measurement,to%20properly%20analyse%20the%20data)<br>Types of Data in Statistics (https://www.freecodecamp.org/news/types-of-data-in-statistics-nominal-ordinal-interval-and-ratio-data-types-explained-with-examples/)\n",
    "\n",
    "#### 2.3.1 Suggesting the types of variables that should be used to model the data in Python.\n",
    "\n",
    " 1. *species*\n",
    " 2. *island*\n",
    "   - the Nominal textual data in the first two columns can be stored in a string variable in python. String (str) variables store text data.\n",
    " 3. *bill_length_mm*\n",
    " 4. *bill_depth_mm*\n",
    " 5. *flipper_length_mm*\n",
    " 6. *body_mass_g*\n",
    "   - above are Continuous type Numerical data, meaning they can be any real number. Python offers 3 types of variables to store numerical data Integer (int), Floating Point (float) and Complex (complex). Since pythons Integer type variable only stores whole numbers and complex is designed to store complex numbers we must use floating point (float) type variable to store the data from these columns.\n",
    " 7. *sex* - Nominal, dicothomous\n",
    "   - the data in this column is textual but can only take 2 mutually exclusive values (Male or Female) so it might be tempting to use a boolean type variable to store the data, however python's Boolean (bool) variable can only be True or False so in this case a String (str) type variable is the right choice.\n",
    "\n",
    "###### Python Data Types (https://www.programiz.com/python-programming/variables-datatypes)"
   ]
  },
  {
   "cell_type": "markdown",
   "metadata": {},
   "source": [
    "#### End of Task 2. - Penguins Dataset\n",
    "___\n",
    "***"
   ]
  },
  {
   "cell_type": "markdown",
   "metadata": {},
   "source": [
    "## Task 3. Modelling penguins dataset variables with numpy's random distribution\n",
    "\n",
    "##### Task description:\n",
    "> For each of the variables in the penguins data set, suggest what\n",
    "probability distribution from the numpy random distributions list\n",
    "is the most appropriate to model the variable"
   ]
  },
  {
   "cell_type": "markdown",
   "metadata": {},
   "source": [
    "### 3.1 Overview\n",
    "\n",
    "A probability distribution is a mathematical description of a random phenomenon. It gives the probabilities of occurrence of different possible outcomes. \n",
    "Probability distributions can be defined in different ways and for discrete (categorical) or for continuous variables.\n",
    "<br>\n",
    "\n",
    "#### 3.1.1 Normal distribution\n",
    "In statistics, a normal distribution is a type of continuous probability distribution for random variable. \n",
    "\n",
    "The general form of probability density function is\n",
    "$$ f(x) = \\frac{1}{\\sigma \\sqrt{2\\pi}} e^{-\\frac{(x - \\mu)^2}{2\\sigma^2}} $$\n",
    "This equation defines the shape of the bell curve that characterizes the Gaussian distribution, with the mean (μ) at the center and the standard deviation (σ) controlling the spread of the curve.<br>\n",
    "Normal distributions are important in statistics and are often used in the natural and social sciences to represent real-valued random variables (such as biometric data of the penguins) whose distributions are not known.\n",
    "<br><br> *The numpy function for above is random.normal(loc=0.0, scale=1.0, size=None)*\n",
    "\n",
    "#### 3.1.2 Binominal distribution\n",
    "In probability theory and statistics, the binomial distribution with parameters n and p is the discrete probability distribution of the number of successes in a sequence of n independent experiments, asking a yes–no (male or female in our case) question, and each with its own Boolean-valued outcome: yes (with probability p) or no (with probability q=1-p). <br>\n",
    "The probability density for the binomial distribution (used in numpy) is\n",
    "$$\n",
    "P(X = k) = \\binom{n}{k} \\cdot p^k \\cdot (1-p)^{n-k}\n",
    "$$\n",
    "where n is the number of trials, p is the probability of success, and N is the number of successes.\n",
    "<br><br>*The numpy function for above is random.binomial(n, p, size=None)*\n",
    "\n",
    "###### ref: https://en.wikipedia.org/wiki/Probability_distribution#Absolutely_continuous_probability_distribution <br>ref: https://en.wikipedia.org/wiki/Normal_distribution <br> ref: https://numpy.org/doc/stable/reference/random/generated/numpy.random.normal.html <br>ref: https://www.w3schools.com/statistics/statistics_normal_distribution.php <br>ref: https://en.wikipedia.org/wiki/Binomial_distribution<br>ref: https://numpy.org/doc/stable/reference/random/generated/numpy.random.binomial.html"
   ]
  },
  {
   "cell_type": "markdown",
   "metadata": {},
   "source": [
    "#### 3.2 Obtaining data\n",
    "\n",
    "As the data was already loaded into a dataframe 'df' in section 2.2 there is only a quick check that the data is available and the structure is intact."
   ]
  },
  {
   "cell_type": "code",
   "execution_count": 12,
   "metadata": {},
   "outputs": [
    {
     "name": "stdout",
     "output_type": "stream",
     "text": [
      "  species     island  bill_length_mm  bill_depth_mm  flipper_length_mm  \\\n",
      "0  Adelie  Torgersen            39.1           18.7              181.0   \n",
      "1  Adelie  Torgersen            39.5           17.4              186.0   \n",
      "2  Adelie  Torgersen            40.3           18.0              195.0   \n",
      "3  Adelie  Torgersen             NaN            NaN                NaN   \n",
      "4  Adelie  Torgersen            36.7           19.3              193.0   \n",
      "\n",
      "   body_mass_g     sex  \n",
      "0       3750.0    MALE  \n",
      "1       3800.0  FEMALE  \n",
      "2       3250.0  FEMALE  \n",
      "3          NaN     NaN  \n",
      "4       3450.0  FEMALE  \n"
     ]
    }
   ],
   "source": [
    "print(df.head()) # check strutcture"
   ]
  },
  {
   "cell_type": "markdown",
   "metadata": {},
   "source": [
    "In section 2.3.1 the variable types in the penguin dataset were assigned to Categorical and Continuous datatypes. \n",
    "\n",
    "1. *Categorical:* Species, Island, Sex\n",
    "2. *Continuous:* Biometric data; bill length, depth, flipper length and body mass.\n",
    "\n",
    "Dichotomous data in the 'Sex' column could be translated into binary data and modelled that way."
   ]
  },
  {
   "cell_type": "markdown",
   "metadata": {},
   "source": [
    "#### 3.3 Investigating data with pandas describe()"
   ]
  },
  {
   "cell_type": "markdown",
   "metadata": {},
   "source": [
    "pandas describe() function provides a statistical overview of each array with the following statistics:\n",
    "\n",
    "- Count: The number of non-null values.\n",
    "- Mean: The average (mean) of the data.\n",
    "- Std: The standard deviation (the spread of the data.)\n",
    "- Min: The minimum value in each array\n",
    "- 25%: The first quartile (under which the first 25% of values falls)\n",
    "- 50%: The median (50th percentile).\n",
    "- 75%: The third quartile (75th percentile).\n",
    "- Max: The maximum value in the array.\n",
    "\n",
    "As default the function only runs on numeric values. With the *include='all'* parameter, category data is also part of the oputput with additional statitstics:\n",
    "- unique: The number of unique entries in the column is.\n",
    "- top: The category that appears most frequently\n",
    "- freq: The frequency of the top category\n",
    "\n",
    "###### ref: https://pandas.pydata.org/docs/reference/api/pandas.DataFrame.describe.html\n",
    "###### ref: https://www.w3schools.com/python/pandas/ref_df_describe.asp"
   ]
  },
  {
   "cell_type": "code",
   "execution_count": 13,
   "metadata": {},
   "outputs": [
    {
     "data": {
      "text/html": [
       "<div>\n",
       "<style scoped>\n",
       "    .dataframe tbody tr th:only-of-type {\n",
       "        vertical-align: middle;\n",
       "    }\n",
       "\n",
       "    .dataframe tbody tr th {\n",
       "        vertical-align: top;\n",
       "    }\n",
       "\n",
       "    .dataframe thead th {\n",
       "        text-align: right;\n",
       "    }\n",
       "</style>\n",
       "<table border=\"1\" class=\"dataframe\">\n",
       "  <thead>\n",
       "    <tr style=\"text-align: right;\">\n",
       "      <th></th>\n",
       "      <th>species</th>\n",
       "      <th>island</th>\n",
       "      <th>bill_length_mm</th>\n",
       "      <th>bill_depth_mm</th>\n",
       "      <th>flipper_length_mm</th>\n",
       "      <th>body_mass_g</th>\n",
       "      <th>sex</th>\n",
       "    </tr>\n",
       "  </thead>\n",
       "  <tbody>\n",
       "    <tr>\n",
       "      <th>count</th>\n",
       "      <td>344</td>\n",
       "      <td>344</td>\n",
       "      <td>342.000000</td>\n",
       "      <td>342.000000</td>\n",
       "      <td>342.000000</td>\n",
       "      <td>342.000000</td>\n",
       "      <td>333</td>\n",
       "    </tr>\n",
       "    <tr>\n",
       "      <th>unique</th>\n",
       "      <td>3</td>\n",
       "      <td>3</td>\n",
       "      <td>NaN</td>\n",
       "      <td>NaN</td>\n",
       "      <td>NaN</td>\n",
       "      <td>NaN</td>\n",
       "      <td>2</td>\n",
       "    </tr>\n",
       "    <tr>\n",
       "      <th>top</th>\n",
       "      <td>Adelie</td>\n",
       "      <td>Biscoe</td>\n",
       "      <td>NaN</td>\n",
       "      <td>NaN</td>\n",
       "      <td>NaN</td>\n",
       "      <td>NaN</td>\n",
       "      <td>MALE</td>\n",
       "    </tr>\n",
       "    <tr>\n",
       "      <th>freq</th>\n",
       "      <td>152</td>\n",
       "      <td>168</td>\n",
       "      <td>NaN</td>\n",
       "      <td>NaN</td>\n",
       "      <td>NaN</td>\n",
       "      <td>NaN</td>\n",
       "      <td>168</td>\n",
       "    </tr>\n",
       "    <tr>\n",
       "      <th>mean</th>\n",
       "      <td>NaN</td>\n",
       "      <td>NaN</td>\n",
       "      <td>43.921930</td>\n",
       "      <td>17.151170</td>\n",
       "      <td>200.915205</td>\n",
       "      <td>4201.754386</td>\n",
       "      <td>NaN</td>\n",
       "    </tr>\n",
       "    <tr>\n",
       "      <th>std</th>\n",
       "      <td>NaN</td>\n",
       "      <td>NaN</td>\n",
       "      <td>5.459584</td>\n",
       "      <td>1.974793</td>\n",
       "      <td>14.061714</td>\n",
       "      <td>801.954536</td>\n",
       "      <td>NaN</td>\n",
       "    </tr>\n",
       "    <tr>\n",
       "      <th>min</th>\n",
       "      <td>NaN</td>\n",
       "      <td>NaN</td>\n",
       "      <td>32.100000</td>\n",
       "      <td>13.100000</td>\n",
       "      <td>172.000000</td>\n",
       "      <td>2700.000000</td>\n",
       "      <td>NaN</td>\n",
       "    </tr>\n",
       "    <tr>\n",
       "      <th>25%</th>\n",
       "      <td>NaN</td>\n",
       "      <td>NaN</td>\n",
       "      <td>39.225000</td>\n",
       "      <td>15.600000</td>\n",
       "      <td>190.000000</td>\n",
       "      <td>3550.000000</td>\n",
       "      <td>NaN</td>\n",
       "    </tr>\n",
       "    <tr>\n",
       "      <th>50%</th>\n",
       "      <td>NaN</td>\n",
       "      <td>NaN</td>\n",
       "      <td>44.450000</td>\n",
       "      <td>17.300000</td>\n",
       "      <td>197.000000</td>\n",
       "      <td>4050.000000</td>\n",
       "      <td>NaN</td>\n",
       "    </tr>\n",
       "    <tr>\n",
       "      <th>75%</th>\n",
       "      <td>NaN</td>\n",
       "      <td>NaN</td>\n",
       "      <td>48.500000</td>\n",
       "      <td>18.700000</td>\n",
       "      <td>213.000000</td>\n",
       "      <td>4750.000000</td>\n",
       "      <td>NaN</td>\n",
       "    </tr>\n",
       "    <tr>\n",
       "      <th>max</th>\n",
       "      <td>NaN</td>\n",
       "      <td>NaN</td>\n",
       "      <td>59.600000</td>\n",
       "      <td>21.500000</td>\n",
       "      <td>231.000000</td>\n",
       "      <td>6300.000000</td>\n",
       "      <td>NaN</td>\n",
       "    </tr>\n",
       "  </tbody>\n",
       "</table>\n",
       "</div>"
      ],
      "text/plain": [
       "       species  island  bill_length_mm  bill_depth_mm  flipper_length_mm  \\\n",
       "count      344     344      342.000000     342.000000         342.000000   \n",
       "unique       3       3             NaN            NaN                NaN   \n",
       "top     Adelie  Biscoe             NaN            NaN                NaN   \n",
       "freq       152     168             NaN            NaN                NaN   \n",
       "mean       NaN     NaN       43.921930      17.151170         200.915205   \n",
       "std        NaN     NaN        5.459584       1.974793          14.061714   \n",
       "min        NaN     NaN       32.100000      13.100000         172.000000   \n",
       "25%        NaN     NaN       39.225000      15.600000         190.000000   \n",
       "50%        NaN     NaN       44.450000      17.300000         197.000000   \n",
       "75%        NaN     NaN       48.500000      18.700000         213.000000   \n",
       "max        NaN     NaN       59.600000      21.500000         231.000000   \n",
       "\n",
       "        body_mass_g   sex  \n",
       "count    342.000000   333  \n",
       "unique          NaN     2  \n",
       "top             NaN  MALE  \n",
       "freq            NaN   168  \n",
       "mean    4201.754386   NaN  \n",
       "std      801.954536   NaN  \n",
       "min     2700.000000   NaN  \n",
       "25%     3550.000000   NaN  \n",
       "50%     4050.000000   NaN  \n",
       "75%     4750.000000   NaN  \n",
       "max     6300.000000   NaN  "
      ]
     },
     "execution_count": 13,
     "metadata": {},
     "output_type": "execute_result"
    }
   ],
   "source": [
    "df.describe(include='all')"
   ]
  },
  {
   "cell_type": "markdown",
   "metadata": {},
   "source": [
    "With the results from .describe() it appears that the biometric data is roughly evenly distributed. The mean and the median are quite close on each of the 4 numeric arrays and the percentiles seem evenly distanced, although bill_length_mm, flipper_length_mm and body_mass_g shows a notable gap from 75% to their maximum values that may indicate outliers.\n",
    "<br>Visualising the numeric data should confirm the shape of the data distribution."
   ]
  },
  {
   "cell_type": "markdown",
   "metadata": {},
   "source": [
    "#### 3.4 Visualising numeric data with matplotlib.pyplot histograms"
   ]
  },
  {
   "cell_type": "markdown",
   "metadata": {},
   "source": [
    "A histogram is an approximate representation of the distribution of numerical data. Histograms give a rough sense of the density of the underlying distribution of the data, and often for density estimation: estimating the probability density function of the underlying variable.\n",
    "A histogram is a common and effective way to understand the distribution of a dataset, especially when dealing with continuous variables.<br>\n",
    "\n",
    "\n",
    "###### ref: https://en.wikipedia.org/wiki/Histogram"
   ]
  },
  {
   "cell_type": "code",
   "execution_count": 110,
   "metadata": {},
   "outputs": [
    {
     "data": {
      "image/png": "[encoded data removed]",
      "text/plain": [
       "<Figure size 1200x800 with 4 Axes>"
      ]
     },
     "metadata": {},
     "output_type": "display_data"
    }
   ],
   "source": [
    "# Visualise penguine biometric data with histograms including median\n",
    "\n",
    "import matplotlib.pyplot as plt\n",
    "import numpy as np\n",
    "\n",
    "#from lecture notes:\n",
    "    # create Plot Standard Normal PDF\n",
    "def f(x):\n",
    "    A = 1.0 / np.sqrt(2.0 * np.pi)\n",
    "    B = np.exp(-(x**2)/2.0)\n",
    "    return A * B\n",
    "#------------------------\n",
    "\n",
    "#set variable names\n",
    "c=['bill_length_mm','bill_depth_mm','flipper_length_mm','body_mass_g']\n",
    "\n",
    "#set up plot for 4 charts\n",
    "fig, axs = plt.subplots(2,2, figsize=(12,8))\n",
    "fig.suptitle('Histogram for all variables ',fontsize=12)\n",
    "# generate individual charts and place them on the grid.\n",
    "mean1 = df[c[0]].mean()\n",
    "std1= df[c[0]].std()\n",
    "x1 = np.linspace(df[c[0]].min(), df[c[0]].max(), 100)\n",
    "y1 = f(x1)\n",
    "\n",
    "\n",
    "axs[0,0].hist(df[c[0]],bins=20)\n",
    "axs[0,0].set_title(c[0])\n",
    "axs[0,0].axvline(mean1, color=\"black\", ls=\"--\", label=\"Median\")\n",
    "axs[0,0].plot(x1, y1, color='red', label='Normal Distribution')\n",
    "axs[0,0].legend()\n",
    "\n",
    "axs[0,1].hist(df[c[1]], bins=20)\n",
    "axs[0,1].set_title(c[1])\n",
    "axs[0,1].axvline(df[c[1]].mean(), color=\"black\", ls=\"--\", label=\"Median\")\n",
    "axs[0,1].legend()\n",
    "\n",
    "axs[1,0].hist(df[c[2]], bins=20)\n",
    "axs[1,0].set_title(c[2])\n",
    "axs[1,0].axvline(df[c[2]].mean(), color=\"black\", ls=\"--\", label=\"Median\")\n",
    "axs[1,0].legend()\n",
    "\n",
    "axs[1,1].hist(df[c[3]], bins=20)\n",
    "axs[1,1].set_title(c[3])\n",
    "axs[1,1].axvline(df[c[3]].mean(), color=\"black\", ls=\"--\", label=\"Median\")\n",
    "axs[1,1].legend()\n",
    "\n",
    "plt.tight_layout() #keep the text from overlapping\n",
    "plt.show()\n",
    "# ref creating multiple subplots: https://matplotlib.org/stable/gallery/subplots_axes_and_figures/subplots_demo.html\n",
    "# ref matplotlib histograms: https://matplotlib.org/stable/api/_as_gen/matplotlib.pyplot.hist.html\n",
    "# ref draw median: https://python-graph-gallery.com/basic-histogram-in-matplotlib/\n"
   ]
  },
  {
   "cell_type": "markdown",
   "metadata": {},
   "source": [
    "#### 3.4.1 Histogram Interpretation\n",
    "\n",
    "**bill_lenght_mm** shows roughly symmetric shape \n",
    "\n",
    "\n",
    "###### ref: Histograms: https://en.wikipedia.org/wiki/Histogram <br>ref: How to interpret histograms:https://www.labxchange.org/library/items/lb:LabXchange:10d3270e:html:1#:~:text=The%20peak%20in%20a%20histogram,is%20referred%20to%20as%20unimodal. <br>ref: Histogram interpretation: https://www.itl.nist.gov/div898/handbook/eda/section3/eda33e.htm "
   ]
  }
 ],
 "metadata": {
  "kernelspec": {
   "display_name": "base",
   "language": "python",
   "name": "python3"
  },
  "language_info": {
   "codemirror_mode": {
    "name": "ipython",
    "version": 3
   },
   "file_extension": ".py",
   "mimetype": "text/x-python",
   "name": "python",
   "nbconvert_exporter": "python",
   "pygments_lexer": "ipython3",
   "version": "3.9.13"
  },
  "orig_nbformat": 4
 },
 "nbformat": 4,
 "nbformat_minor": 2
}
