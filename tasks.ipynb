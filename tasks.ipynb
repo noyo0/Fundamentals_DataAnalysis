{
 "cells": [
  {
   "cell_type": "markdown",
   "metadata": {},
   "source": [
    "# Tasks"
   ]
  },
  {
   "cell_type": "markdown",
   "metadata": {},
   "source": [
    "## 1. Collatz Conjecture\n",
    "> The Collatz conjecture1 is a famous unsolved problem in mathe- 1 The Simple Math Problem We Still Can’t\n",
    "Solve | Quanta Magazine. Sept. 22, 2020.\n",
    "url: https://www.quantamagazine.\n",
    "org/why- mathematicians- still\u0002cant - solve - the - collatz -\n",
    "conjecture- 20200922/ (visited on\n",
    "08/18/2023).\n",
    "matics. The problem is to prove that if you start with any positive\n",
    "integer x and repeatedly apply the function f(x) below, you al\u0002ways get stuck in the repeating sequence 1, 4, 2, 1, 4, 2, . . .\n",
    "$$ f(x) =\n",
    "\\begin{cases}\n",
    "    x \\div 2 & \\text{if } x \\text{ is even} \\\\\n",
    "    3x + 1 & \\text{otherwise}\n",
    "\\end{cases} $$\n",
    "\n",
    "The task is to verify, using Python, that the conjecture is true for\n",
    "the first 10,000 positive integers.\n",
    "\n",
    "    ***\n",
    "\n"
   ]
  },
  {
   "cell_type": "markdown",
   "metadata": {},
   "source": [
    "Notes from lecture:"
   ]
  },
  {
   "cell_type": "code",
   "execution_count": 1,
   "metadata": {},
   "outputs": [],
   "source": [
    "x=5"
   ]
  },
  {
   "cell_type": "code",
   "execution_count": 2,
   "metadata": {},
   "outputs": [],
   "source": [
    "def f_collatz(x):\n",
    "    #if x is even, devide with 2\n",
    "    if x %2 == 0:\n",
    "        return x // 2\n",
    "    else:\n",
    "        return (3 * x) +1\n"
   ]
  },
  {
   "cell_type": "code",
   "execution_count": 3,
   "metadata": {},
   "outputs": [],
   "source": [
    "def loop_collatz(x):\n",
    "    while x!=1:\n",
    "        # print(x, end=', ')\n",
    "        x=f_collatz(x) \n",
    "    return x"
   ]
  },
  {
   "cell_type": "code",
   "execution_count": 4,
   "metadata": {},
   "outputs": [
    {
     "name": "stdout",
     "output_type": "stream",
     "text": [
      "\n",
      "Testing Collatz with initial value of: 3-> \n",
      "\t1\n"
     ]
    }
   ],
   "source": [
    "number=3\n",
    "print(f\"\\nTesting Collatz with initial value of: {number}-> \\n\\t{loop_collatz(number)}\")"
   ]
  },
  {
   "cell_type": "markdown",
   "metadata": {},
   "source": [
    "## Task execution\n",
    "\n",
    "##### *The Collatz conjecture is: This process will eventually reach the number 1, regardless of which positive integer is chosen initially. (https://en.wikipedia.org/wiki/Collatz_conjecture)*\n",
    "\n",
    "In order to verify that the above is true for the first 10,000 positive integers, the program will create and analyse a dataframe that consists of the \n",
    "-   sequence of the first 10,000 positive integers\n",
    "-   resulting Collatz values for each integer (this is not a necessary step, only to demonstrate Collatz is being calculated for each integer)\n",
    "-   the final value of the Collatz sequence which is expected to be 1 for each integer\n",
    "-   the last 3 items of each Collatz sequence to verify the predicted 4, 2, 1 cycle as demonstrated in the lecture\n",
    "The populated DataFrame then can be analysed with Panda's .describe() function to verify if the max value for the \"Final Value\" datapoint is indeed equals to 1 which would prove that running the Collatz calculation on the first 10,000 positive integers will always return 1.\n",
    "##### As a starting point, functions \"f_collatz()\" and \"loop_collatz()\" are being repurposed from the lecture notes.\n",
    "-   f_collatz() encapsulates the singular Collatz calculation (x/2 if x is even or 3x+1 if x is an odd one)\n",
    "-   loop_collatz() calls f_collatz and repeats it until x returns 1"
   ]
  },
  {
   "cell_type": "markdown",
   "metadata": {},
   "source": [
    "*To demonstrate that the Collatz calculation was actually carried out, the program will store Collatz values from each calculation in a list object*\n"
   ]
  },
  {
   "cell_type": "code",
   "execution_count": 5,
   "metadata": {},
   "outputs": [
    {
     "name": "stdout",
     "output_type": "stream",
     "text": [
      "[3, 10, 5, 16, 8, 4, 2, 1]\n"
     ]
    }
   ],
   "source": [
    "# function to store Collatz sequence to demonstrate calculation has carried out\n",
    "def store_collatz(x):\n",
    "    store=[] # create emty list conatiner\n",
    "    while x!=1:\n",
    "        x=f_collatz(x) # call Collatz function as per lecture notes\n",
    "        store.append(x) # store each iteration\n",
    "    return store #return container list\n",
    "# --- end of function\n",
    "print(store_collatz(6)) #check resulting list"
   ]
  },
  {
   "cell_type": "markdown",
   "metadata": {},
   "source": [
    "*Using a dictionary object the program will store the values in a labelled structure; \"Number\" to store each x integer, \"Collatz Values\" for each group of Collatz values and \"Final Value\" for the final Collatz value for each integer. Added last three Values to check the predicted 4, 2, 1 cycle as demonstrated in the lecture*"
   ]
  },
  {
   "cell_type": "code",
   "execution_count": 6,
   "metadata": {},
   "outputs": [
    {
     "name": "stdout",
     "output_type": "stream",
     "text": [
      "[{'Number': 1, 'Collatz Values': [], 'Final Value': 1, 'First of the Last Three Values': [], 'Mid of the Last Three Values': [], 'Last of the Last Three Values': []}, {'Number': 2, 'Collatz Values': [1], 'Final Value': 1, 'First of the Last Three Values': [1], 'Mid of the Last Three Values': [], 'Last of the Last Three Values': []}, {'Number': 3, 'Collatz Values': [10, 5, 16, 8, 4, 2, 1], 'Final Value': 1, 'First of the Last Three Values': [4], 'Mid of the Last Three Values': [2], 'Last of the Last Three Values': [1]}, {'Number': 4, 'Collatz Values': [2, 1], 'Final Value': 1, 'First of the Last Three Values': [2], 'Mid of the Last Three Values': [1], 'Last of the Last Three Values': []}, {'Number': 5, 'Collatz Values': [16, 8, 4, 2, 1], 'Final Value': 1, 'First of the Last Three Values': [4], 'Mid of the Last Three Values': [2], 'Last of the Last Three Values': [1]}, {'Number': 6, 'Collatz Values': [3, 10, 5, 16, 8, 4, 2, 1], 'Final Value': 1, 'First of the Last Three Values': [4], 'Mid of the Last Three Values': [2], 'Last of the Last Three Values': [1]}, {'Number': 7, 'Collatz Values': [22, 11, 34, 17, 52, 26, 13, 40, 20, 10, 5, 16, 8, 4, 2, 1], 'Final Value': 1, 'First of the Last Three Values': [4], 'Mid of the Last Three Values': [2], 'Last of the Last Three Values': [1]}]\n"
     ]
    }
   ],
   "source": [
    "# testing dictionary solution\n",
    "i=1 #iterator and starting number\n",
    "collstored=[] # container for Collatz Values\n",
    "collData=[] # container for dictionary items\n",
    "while i!=8: # loop until reaching 8 for testing purposes\n",
    "    collstored=store_collatz(i) # calling previously created function to populate list of Collatz Values\n",
    "    collDict={\n",
    "        \"Number\":i, #starting number or x for each iteration\n",
    "        \"Collatz Values\":collstored, # list item for each list of Collatz values per iteration\n",
    "        \"Final Value\":loop_collatz(i), # calling function as per lecture notes that loops through the Collatz calculations until reaching 1 to store as final value (if the last value wasn't 1 at any of the positive integers, there would be an infinite loop and no results)\n",
    "        \"First of the Last Three Values\": collstored[-3:][0:1], # checking last 3 items being 4,2,1 as predicted by the Collatz conjecture\n",
    "        \"Mid of the Last Three Values\":collstored[-3:][1:2], # checking last 3 items being 4,2,1 as predicted by the Collatz conjecture\n",
    "        \"Last of the Last Three Values\":collstored[-3:][2:3] # checking last 3 items being 4,2,1 as predicted by the Collatz conjecture\n",
    "        }\n",
    "    collData.append(collDict) # conatiner for each iterated dictionary item\n",
    "    i=i+1 #iterator increased\n",
    "print(collData) #print list with all dictionary items generated\n"
   ]
  },
  {
   "cell_type": "markdown",
   "metadata": {},
   "source": [
    "*as the resulting dictionary has the necessary structure (labelled data) for creating a dataframe, the program will import pandas and generate a datarame from the data in the dictionary.*"
   ]
  },
  {
   "cell_type": "code",
   "execution_count": 7,
   "metadata": {},
   "outputs": [
    {
     "data": {
      "text/html": [
       "<div>\n",
       "<style scoped>\n",
       "    .dataframe tbody tr th:only-of-type {\n",
       "        vertical-align: middle;\n",
       "    }\n",
       "\n",
       "    .dataframe tbody tr th {\n",
       "        vertical-align: top;\n",
       "    }\n",
       "\n",
       "    .dataframe thead th {\n",
       "        text-align: right;\n",
       "    }\n",
       "</style>\n",
       "<table border=\"1\" class=\"dataframe\">\n",
       "  <thead>\n",
       "    <tr style=\"text-align: right;\">\n",
       "      <th></th>\n",
       "      <th>Number</th>\n",
       "      <th>Collatz Values</th>\n",
       "      <th>Final Value</th>\n",
       "      <th>First of the Last Three Values</th>\n",
       "      <th>Mid of the Last Three Values</th>\n",
       "      <th>Last of the Last Three Values</th>\n",
       "    </tr>\n",
       "  </thead>\n",
       "  <tbody>\n",
       "    <tr>\n",
       "      <th>0</th>\n",
       "      <td>1</td>\n",
       "      <td>[]</td>\n",
       "      <td>1</td>\n",
       "      <td>[]</td>\n",
       "      <td>[]</td>\n",
       "      <td>[]</td>\n",
       "    </tr>\n",
       "    <tr>\n",
       "      <th>1</th>\n",
       "      <td>2</td>\n",
       "      <td>[1]</td>\n",
       "      <td>1</td>\n",
       "      <td>[1]</td>\n",
       "      <td>[]</td>\n",
       "      <td>[]</td>\n",
       "    </tr>\n",
       "    <tr>\n",
       "      <th>2</th>\n",
       "      <td>3</td>\n",
       "      <td>[10, 5, 16, 8, 4, 2, 1]</td>\n",
       "      <td>1</td>\n",
       "      <td>[4]</td>\n",
       "      <td>[2]</td>\n",
       "      <td>[1]</td>\n",
       "    </tr>\n",
       "    <tr>\n",
       "      <th>3</th>\n",
       "      <td>4</td>\n",
       "      <td>[2, 1]</td>\n",
       "      <td>1</td>\n",
       "      <td>[2]</td>\n",
       "      <td>[1]</td>\n",
       "      <td>[]</td>\n",
       "    </tr>\n",
       "    <tr>\n",
       "      <th>4</th>\n",
       "      <td>5</td>\n",
       "      <td>[16, 8, 4, 2, 1]</td>\n",
       "      <td>1</td>\n",
       "      <td>[4]</td>\n",
       "      <td>[2]</td>\n",
       "      <td>[1]</td>\n",
       "    </tr>\n",
       "    <tr>\n",
       "      <th>5</th>\n",
       "      <td>6</td>\n",
       "      <td>[3, 10, 5, 16, 8, 4, 2, 1]</td>\n",
       "      <td>1</td>\n",
       "      <td>[4]</td>\n",
       "      <td>[2]</td>\n",
       "      <td>[1]</td>\n",
       "    </tr>\n",
       "    <tr>\n",
       "      <th>6</th>\n",
       "      <td>7</td>\n",
       "      <td>[22, 11, 34, 17, 52, 26, 13, 40, 20, 10, 5, 16...</td>\n",
       "      <td>1</td>\n",
       "      <td>[4]</td>\n",
       "      <td>[2]</td>\n",
       "      <td>[1]</td>\n",
       "    </tr>\n",
       "  </tbody>\n",
       "</table>\n",
       "</div>"
      ],
      "text/plain": [
       "   Number                                     Collatz Values  Final Value  \\\n",
       "0       1                                                 []            1   \n",
       "1       2                                                [1]            1   \n",
       "2       3                            [10, 5, 16, 8, 4, 2, 1]            1   \n",
       "3       4                                             [2, 1]            1   \n",
       "4       5                                   [16, 8, 4, 2, 1]            1   \n",
       "5       6                         [3, 10, 5, 16, 8, 4, 2, 1]            1   \n",
       "6       7  [22, 11, 34, 17, 52, 26, 13, 40, 20, 10, 5, 16...            1   \n",
       "\n",
       "  First of the Last Three Values Mid of the Last Three Values  \\\n",
       "0                             []                           []   \n",
       "1                            [1]                           []   \n",
       "2                            [4]                          [2]   \n",
       "3                            [2]                          [1]   \n",
       "4                            [4]                          [2]   \n",
       "5                            [4]                          [2]   \n",
       "6                            [4]                          [2]   \n",
       "\n",
       "  Last of the Last Three Values  \n",
       "0                            []  \n",
       "1                            []  \n",
       "2                           [1]  \n",
       "3                            []  \n",
       "4                           [1]  \n",
       "5                           [1]  \n",
       "6                           [1]  "
      ]
     },
     "execution_count": 7,
     "metadata": {},
     "output_type": "execute_result"
    }
   ],
   "source": [
    "import pandas as pd\n",
    "df=pd.DataFrame(collData) #converting dictionary data into a dataframe\n",
    "df.head(15) #check result"
   ]
  },
  {
   "cell_type": "markdown",
   "metadata": {},
   "source": [
    "*The resulting dataframe now can be analysed with Panda's .describe() function to find max value for final values*"
   ]
  },
  {
   "cell_type": "code",
   "execution_count": 8,
   "metadata": {},
   "outputs": [
    {
     "data": {
      "text/html": [
       "<div>\n",
       "<style scoped>\n",
       "    .dataframe tbody tr th:only-of-type {\n",
       "        vertical-align: middle;\n",
       "    }\n",
       "\n",
       "    .dataframe tbody tr th {\n",
       "        vertical-align: top;\n",
       "    }\n",
       "\n",
       "    .dataframe thead th {\n",
       "        text-align: right;\n",
       "    }\n",
       "</style>\n",
       "<table border=\"1\" class=\"dataframe\">\n",
       "  <thead>\n",
       "    <tr style=\"text-align: right;\">\n",
       "      <th></th>\n",
       "      <th>Number</th>\n",
       "      <th>Final Value</th>\n",
       "    </tr>\n",
       "  </thead>\n",
       "  <tbody>\n",
       "    <tr>\n",
       "      <th>count</th>\n",
       "      <td>7.000000</td>\n",
       "      <td>7.0</td>\n",
       "    </tr>\n",
       "    <tr>\n",
       "      <th>mean</th>\n",
       "      <td>4.000000</td>\n",
       "      <td>1.0</td>\n",
       "    </tr>\n",
       "    <tr>\n",
       "      <th>std</th>\n",
       "      <td>2.160247</td>\n",
       "      <td>0.0</td>\n",
       "    </tr>\n",
       "    <tr>\n",
       "      <th>min</th>\n",
       "      <td>1.000000</td>\n",
       "      <td>1.0</td>\n",
       "    </tr>\n",
       "    <tr>\n",
       "      <th>25%</th>\n",
       "      <td>2.500000</td>\n",
       "      <td>1.0</td>\n",
       "    </tr>\n",
       "    <tr>\n",
       "      <th>50%</th>\n",
       "      <td>4.000000</td>\n",
       "      <td>1.0</td>\n",
       "    </tr>\n",
       "    <tr>\n",
       "      <th>75%</th>\n",
       "      <td>5.500000</td>\n",
       "      <td>1.0</td>\n",
       "    </tr>\n",
       "    <tr>\n",
       "      <th>max</th>\n",
       "      <td>7.000000</td>\n",
       "      <td>1.0</td>\n",
       "    </tr>\n",
       "  </tbody>\n",
       "</table>\n",
       "</div>"
      ],
      "text/plain": [
       "         Number  Final Value\n",
       "count  7.000000          7.0\n",
       "mean   4.000000          1.0\n",
       "std    2.160247          0.0\n",
       "min    1.000000          1.0\n",
       "25%    2.500000          1.0\n",
       "50%    4.000000          1.0\n",
       "75%    5.500000          1.0\n",
       "max    7.000000          1.0"
      ]
     },
     "execution_count": 8,
     "metadata": {},
     "output_type": "execute_result"
    }
   ],
   "source": [
    "df.describe()"
   ]
  },
  {
   "cell_type": "markdown",
   "metadata": {},
   "source": [
    "*.describe() returned the expected max value and min value (1.0) for the \"Final Value\" column in the test dataframe*\n",
    "###### *(.describe() can only analyse numbers therefore it disregarded list data stored in \"Collatz Values\" and \"Last Three Items\")*"
   ]
  },
  {
   "cell_type": "markdown",
   "metadata": {},
   "source": [
    "With the individual steps tested and returning the expected results, these will be merged into one function \"CollatzVerify()\", so it can be called with any positive integer"
   ]
  },
  {
   "cell_type": "code",
   "execution_count": 9,
   "metadata": {},
   "outputs": [],
   "source": [
    "def CollatzVerify(maxNum):\n",
    "    import pandas as pd #pandas module imported\n",
    "    i=1 #iterator and starting number for Collatz\n",
    "    collstored=[] # container for stored Collatz seqence for each integer\n",
    "    collData=[] # dictionary container for labeled data\n",
    "    \n",
    "    #populating dictionary object with each iteration using while loop\n",
    "    while i!=maxNum+1: # maxNum will determine the scope of the calculation as per function parameter (+1 to compensate for python's counting starting with 0) \n",
    "        collstored=store_collatz(i) #call function to store Collatz sequence for each iteration\n",
    "        collDict={ #populate dictionary object\n",
    "        \"Number\":i, #i=each number in the iterator\n",
    "        \"Collatz Values\":collstored, #seqence calculated by store_collatz()\n",
    "        \"Final Value\":loop_collatz(i), # end of collatz sequence (I couldn't store the sliced list data as integer hence the calculation)\n",
    "        \"Last Three Values\":collstored[-3:], # checking last 3 items being 4,2,1 as predicted by the Collatz conjecture\n",
    "        }\n",
    "        collData.append(collDict) #adding all above to existing dictionary data\n",
    "        i=i+1 #increase iteration by 1\n",
    "    #end of while loop\n",
    "    df=pd.DataFrame(collData) #after while loop is finished the resulting dictionary object is converted to a dataframe with pandas.\n",
    "    print(f\"Verifying last item of the Collatz sequence for the first {maxNum} positive integers\\n\") #user interaction - function description with scope indicated\n",
    "    print(f\"DataFrame Analysis:\\n{df.describe()}\") # display results of dataframe analysis with describe()\n",
    "    print(f\"\\nWith both min and max value returning 1.0 for \\\"Final Value\\\" column, the DataFrame Analysis verifies the Collatz conjecture within the first {maxNum} positive integers.\") #Userinteraction display conclusion with scope\n",
    "    print(\"\\nDataframe structure sample:\")\n",
    "    return(df) #show sample of the dataframe\n",
    "#___End of combined function___"
   ]
  },
  {
   "cell_type": "markdown",
   "metadata": {},
   "source": [
    "Calling the merged function with 10,000"
   ]
  },
  {
   "cell_type": "code",
   "execution_count": 10,
   "metadata": {},
   "outputs": [
    {
     "name": "stdout",
     "output_type": "stream",
     "text": [
      "Verifying last item of the Collatz sequence for the first 10000 positive integers\n",
      "\n",
      "DataFrame Analysis:\n",
      "            Number  Final Value\n",
      "count  10000.00000      10000.0\n",
      "mean    5000.50000          1.0\n",
      "std     2886.89568          0.0\n",
      "min        1.00000          1.0\n",
      "25%     2500.75000          1.0\n",
      "50%     5000.50000          1.0\n",
      "75%     7500.25000          1.0\n",
      "max    10000.00000          1.0\n",
      "\n",
      "With both min and max value returning 1.0 for \"Final Value\" column, the DataFrame Analysis verifies the Collatz conjecture within the first 10000 positive integers.\n",
      "\n",
      "Dataframe structure sample:\n"
     ]
    },
    {
     "data": {
      "text/html": [
       "<div>\n",
       "<style scoped>\n",
       "    .dataframe tbody tr th:only-of-type {\n",
       "        vertical-align: middle;\n",
       "    }\n",
       "\n",
       "    .dataframe tbody tr th {\n",
       "        vertical-align: top;\n",
       "    }\n",
       "\n",
       "    .dataframe thead th {\n",
       "        text-align: right;\n",
       "    }\n",
       "</style>\n",
       "<table border=\"1\" class=\"dataframe\">\n",
       "  <thead>\n",
       "    <tr style=\"text-align: right;\">\n",
       "      <th></th>\n",
       "      <th>Number</th>\n",
       "      <th>Collatz Values</th>\n",
       "      <th>Final Value</th>\n",
       "      <th>Last Three Values</th>\n",
       "    </tr>\n",
       "  </thead>\n",
       "  <tbody>\n",
       "    <tr>\n",
       "      <th>0</th>\n",
       "      <td>1</td>\n",
       "      <td>[]</td>\n",
       "      <td>1</td>\n",
       "      <td>[]</td>\n",
       "    </tr>\n",
       "    <tr>\n",
       "      <th>1</th>\n",
       "      <td>2</td>\n",
       "      <td>[1]</td>\n",
       "      <td>1</td>\n",
       "      <td>[1]</td>\n",
       "    </tr>\n",
       "    <tr>\n",
       "      <th>2</th>\n",
       "      <td>3</td>\n",
       "      <td>[10, 5, 16, 8, 4, 2, 1]</td>\n",
       "      <td>1</td>\n",
       "      <td>[4, 2, 1]</td>\n",
       "    </tr>\n",
       "    <tr>\n",
       "      <th>3</th>\n",
       "      <td>4</td>\n",
       "      <td>[2, 1]</td>\n",
       "      <td>1</td>\n",
       "      <td>[2, 1]</td>\n",
       "    </tr>\n",
       "    <tr>\n",
       "      <th>4</th>\n",
       "      <td>5</td>\n",
       "      <td>[16, 8, 4, 2, 1]</td>\n",
       "      <td>1</td>\n",
       "      <td>[4, 2, 1]</td>\n",
       "    </tr>\n",
       "    <tr>\n",
       "      <th>...</th>\n",
       "      <td>...</td>\n",
       "      <td>...</td>\n",
       "      <td>...</td>\n",
       "      <td>...</td>\n",
       "    </tr>\n",
       "    <tr>\n",
       "      <th>9995</th>\n",
       "      <td>9996</td>\n",
       "      <td>[4998, 2499, 7498, 3749, 11248, 5624, 2812, 14...</td>\n",
       "      <td>1</td>\n",
       "      <td>[4, 2, 1]</td>\n",
       "    </tr>\n",
       "    <tr>\n",
       "      <th>9996</th>\n",
       "      <td>9997</td>\n",
       "      <td>[29992, 14996, 7498, 3749, 11248, 5624, 2812, ...</td>\n",
       "      <td>1</td>\n",
       "      <td>[4, 2, 1]</td>\n",
       "    </tr>\n",
       "    <tr>\n",
       "      <th>9997</th>\n",
       "      <td>9998</td>\n",
       "      <td>[4999, 14998, 7499, 22498, 11249, 33748, 16874...</td>\n",
       "      <td>1</td>\n",
       "      <td>[4, 2, 1]</td>\n",
       "    </tr>\n",
       "    <tr>\n",
       "      <th>9998</th>\n",
       "      <td>9999</td>\n",
       "      <td>[29998, 14999, 44998, 22499, 67498, 33749, 101...</td>\n",
       "      <td>1</td>\n",
       "      <td>[4, 2, 1]</td>\n",
       "    </tr>\n",
       "    <tr>\n",
       "      <th>9999</th>\n",
       "      <td>10000</td>\n",
       "      <td>[5000, 2500, 1250, 625, 1876, 938, 469, 1408, ...</td>\n",
       "      <td>1</td>\n",
       "      <td>[4, 2, 1]</td>\n",
       "    </tr>\n",
       "  </tbody>\n",
       "</table>\n",
       "<p>10000 rows × 4 columns</p>\n",
       "</div>"
      ],
      "text/plain": [
       "      Number                                     Collatz Values  Final Value  \\\n",
       "0          1                                                 []            1   \n",
       "1          2                                                [1]            1   \n",
       "2          3                            [10, 5, 16, 8, 4, 2, 1]            1   \n",
       "3          4                                             [2, 1]            1   \n",
       "4          5                                   [16, 8, 4, 2, 1]            1   \n",
       "...      ...                                                ...          ...   \n",
       "9995    9996  [4998, 2499, 7498, 3749, 11248, 5624, 2812, 14...            1   \n",
       "9996    9997  [29992, 14996, 7498, 3749, 11248, 5624, 2812, ...            1   \n",
       "9997    9998  [4999, 14998, 7499, 22498, 11249, 33748, 16874...            1   \n",
       "9998    9999  [29998, 14999, 44998, 22499, 67498, 33749, 101...            1   \n",
       "9999   10000  [5000, 2500, 1250, 625, 1876, 938, 469, 1408, ...            1   \n",
       "\n",
       "     Last Three Values  \n",
       "0                   []  \n",
       "1                  [1]  \n",
       "2            [4, 2, 1]  \n",
       "3               [2, 1]  \n",
       "4            [4, 2, 1]  \n",
       "...                ...  \n",
       "9995         [4, 2, 1]  \n",
       "9996         [4, 2, 1]  \n",
       "9997         [4, 2, 1]  \n",
       "9998         [4, 2, 1]  \n",
       "9999         [4, 2, 1]  \n",
       "\n",
       "[10000 rows x 4 columns]"
      ]
     },
     "execution_count": 10,
     "metadata": {},
     "output_type": "execute_result"
    }
   ],
   "source": [
    "CollatzVerify(10000)"
   ]
  },
  {
   "cell_type": "markdown",
   "metadata": {},
   "source": [
    "#### End of Task1. - Collatz Conjecture\n",
    "___\n",
    "***\n"
   ]
  },
  {
   "cell_type": "markdown",
   "metadata": {},
   "source": []
  }
 ],
 "metadata": {
  "kernelspec": {
   "display_name": "base",
   "language": "python",
   "name": "python3"
  },
  "language_info": {
   "codemirror_mode": {
    "name": "ipython",
    "version": 3
   },
   "file_extension": ".py",
   "mimetype": "text/x-python",
   "name": "python",
   "nbconvert_exporter": "python",
   "pygments_lexer": "ipython3",
   "version": "3.9.13"
  },
  "orig_nbformat": 4
 },
 "nbformat": 4,
 "nbformat_minor": 2
}
