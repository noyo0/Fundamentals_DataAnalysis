{
 "cells": [
  {
   "cell_type": "markdown",
   "metadata": {},
   "source": [
    "# Tasks"
   ]
  },
  {
   "cell_type": "markdown",
   "metadata": {},
   "source": [
    "## 1. Collatz Conjecture\n",
    "> The Collatz conjecture1 is a famous unsolved problem in mathe- 1 The Simple Math Problem We Still Can’t\n",
    "Solve | Quanta Magazine. Sept. 22, 2020.\n",
    "url: https://www.quantamagazine.\n",
    "org/why- mathematicians- still\u0002cant - solve - the - collatz -\n",
    "conjecture- 20200922/ (visited on\n",
    "08/18/2023).\n",
    "matics. The problem is to prove that if you start with any positive\n",
    "integer x and repeatedly apply the function f(x) below, you al\u0002ways get stuck in the repeating sequence 1, 4, 2, 1, 4, 2, . . .\n",
    "$$ f(x) =\n",
    "\\begin{cases}\n",
    "    x \\div 2 & \\text{if } x \\text{ is even} \\\\\n",
    "    3x + 1 & \\text{otherwise}\n",
    "\\end{cases} $$"
   ]
  },
  {
   "cell_type": "code",
   "execution_count": 58,
   "metadata": {},
   "outputs": [],
   "source": [
    "x=5"
   ]
  },
  {
   "cell_type": "code",
   "execution_count": 59,
   "metadata": {},
   "outputs": [],
   "source": [
    "def f(x):\n",
    "    #if x is even, devide with 2\n",
    "    if x %2 == 0:\n",
    "        return x / 2\n",
    "    else:\n",
    "        return (3 * x) +1\n"
   ]
  },
  {
   "cell_type": "code",
   "execution_count": 60,
   "metadata": {},
   "outputs": [
    {
     "data": {
      "text/plain": [
       "16"
      ]
     },
     "execution_count": 60,
     "metadata": {},
     "output_type": "execute_result"
    }
   ],
   "source": [
    "x=f(x)\n",
    "x"
   ]
  },
  {
   "cell_type": "code",
   "execution_count": 61,
   "metadata": {},
   "outputs": [
    {
     "name": "stdout",
     "output_type": "stream",
     "text": [
      "8\n",
      "4\n",
      "2\n",
      "1\n"
     ]
    }
   ],
   "source": [
    "while x>1:\n",
    "    x=int(f(x))\n",
    "    print(x)"
   ]
  }
 ],
 "metadata": {
  "kernelspec": {
   "display_name": "base",
   "language": "python",
   "name": "python3"
  },
  "language_info": {
   "codemirror_mode": {
    "name": "ipython",
    "version": 3
   },
   "file_extension": ".py",
   "mimetype": "text/x-python",
   "name": "python",
   "nbconvert_exporter": "python",
   "pygments_lexer": "ipython3",
   "version": "3.9.13"
  },
  "orig_nbformat": 4
 },
 "nbformat": 4,
 "nbformat_minor": 2
}
