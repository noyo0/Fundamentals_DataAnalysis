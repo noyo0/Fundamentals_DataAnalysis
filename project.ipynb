{
 "cells": [
  {
   "cell_type": "markdown",
   "metadata": {},
   "source": [
    "# Project\n",
    "\n",
    "- The project is to create a notebook investigating the variables and\n",
    "data points within the well-known iris flower data set associated\n",
    "with Ronald A Fisher.\n",
    "- In the notebook, you should discuss the classification of each\n",
    "variable within the data set according to common variable types\n",
    "and scales of measurement in mathematics, statistics, and Python.\n",
    "- Select, demonstrate, and explain the most appropriate summary\n",
    "statistics to describe each variable.\n",
    "- Select, demonstrate, and explain the most appropriate plot(s) for\n",
    "each variable.\n",
    "- The notebook should follow a cohesive narrative about the data\n",
    "set.\n",
    "\n",
    "###### Source file: Iris – UCI Machine Learning Repository. Aug. 17, 2023. url: https://archive.ics.uci.edu/dataset/53/iris"
   ]
  },
  {
   "cell_type": "markdown",
   "metadata": {},
   "source": [
    "## ATU -Fundamentals of Data Analysis, Winter 2023/24\n",
    "##### Author: Norbert Antal\n",
    "\n",
    "## **Investigating the Iris Dataset**"
   ]
  },
  {
   "cell_type": "markdown",
   "metadata": {},
   "source": [
    "### **1. Introduction**\n",
    "\n",
    "##### 1.1 Origins of the data\n",
    "Fisher’s Iris data set, is a multivariate data set that was introduced by British statistician and biologist Ronald Fisher. <br>The data was collected by Edgar Anderson to quantify the morphologic variation of three related Iris flower species. Fisher utilised the data to demonstrate the use of linear discriminant analysis in his 1936 paper, published in the Annals of Eugenics; “The use of multiple measurements in taxonomic problems”.\n",
    "<br>In recent times, the dataset is often used as a typical test case for statistical classification in machine learning.<br>\n",
    "\n",
    "\n",
    "##### 1.2 Contents of the Iris dataset \n",
    "The Iris dataset contains 50 samples of three different Iris flower species: Iris setosa, Iris virginica, and Iris versicolor. Each sample has four features measured in centimetres: sepal length, sepal width, petal length and petal width. Using these four sets of data, Ronald Fisher developed a linear discriminant model to differentiate between the species.<br>\n",
    "\n",
    "###### (ref: https://en.wikipedia.org/wiki/Iris_flower_data_set)"
   ]
  },
  {
   "cell_type": "markdown",
   "metadata": {},
   "source": [
    "### **Preparation**\n",
    "\n",
    "##### Software used for this project\n",
    "\n",
    "+ VS Code editor\n",
    "+ Python version 3.9.13 with imported libraries:\n",
    "  + *pandas* - for data manipulation and analysis (ref: https://en.wikipedia.org/wiki/Pandas_(software))\n",
    "  \n",
    "##### Data source:\n",
    "Source files downloaded from https://archive.ics.uci.edu/ml/datasets/iris"
   ]
  },
  {
   "cell_type": "markdown",
   "metadata": {},
   "source": [
    "### Reading in and validating data\n",
    "Files 'iris.data' and 'iris.names' were copied to the project folder for easy access.\n",
    "Data will be analysed using mainly Pandas which is a popular data analysis library in Python that provides user-friendly data structures and data analysis tools. The comma separated value file is converted to Pandas DataFrame which is a two-dimensional table with labelled columns and rows, similar to a spreadsheet. (ref: https://towardsdatascience.com/a-python-pandas-introduction-to-excel-users-1696d65604f6)\n",
    "\n",
    "Iris flower measurement values are imported from **iris.data**, header labels added manually from the data description in **iris.names** and the two combined into a pandas dataframe. <br>"
   ]
  },
  {
   "cell_type": "code",
   "execution_count": 17,
   "metadata": {},
   "outputs": [],
   "source": [
    "# ------------- load modules  --------------\n",
    "import pandas as pd # for data analysis and dataframe\n",
    "\n",
    "#----read in data and give headers to each column, creating a dataframe-----------------------\n",
    "SOURCEDATA=\"iris.data\" # store path of source file in global variable\n",
    "#----read in data and add headers to each column (headers taken from iris.names)--------------\n",
    "headers=[ #adding headers to dataframe\n",
    "    \"sepal length (cm)\", \n",
    "    \"sepal width (cm)\", \n",
    "    \"petal length (cm)\", \n",
    "    \"petal width (cm)\",\n",
    "    \"species\"]\n",
    "df=pd.read_csv(SOURCEDATA, names=headers) # creating dataframe 'df', setting headers, excluding index column"
   ]
  },
  {
   "cell_type": "code",
   "execution_count": 19,
   "metadata": {},
   "outputs": [
    {
     "name": "stdout",
     "output_type": "stream",
     "text": [
      "\n",
      "-------> dataframe structure: \n",
      "\n",
      "   sepal length (cm)  sepal width (cm)  petal length (cm)  petal width (cm)  \\\n",
      "0                5.1               3.5                1.4               0.2   \n",
      "1                4.9               3.0                1.4               0.2   \n",
      "2                4.7               3.2                1.3               0.2   \n",
      "\n",
      "       species  \n",
      "0  Iris-setosa  \n",
      "1  Iris-setosa  \n",
      "2  Iris-setosa  \n",
      "\n",
      "-------> dataframe info: \n",
      "\n",
      "<class 'pandas.core.frame.DataFrame'>\n",
      "RangeIndex: 150 entries, 0 to 149\n",
      "Data columns (total 5 columns):\n",
      " #   Column             Non-Null Count  Dtype  \n",
      "---  ------             --------------  -----  \n",
      " 0   sepal length (cm)  150 non-null    float64\n",
      " 1   sepal width (cm)   150 non-null    float64\n",
      " 2   petal length (cm)  150 non-null    float64\n",
      " 3   petal width (cm)   150 non-null    float64\n",
      " 4   species            150 non-null    object \n",
      "dtypes: float64(4), object(1)\n",
      "memory usage: 6.0+ KB\n",
      "None\n",
      "\n",
      "-------> Checking for Null entries: \n",
      "\n",
      "sepal length (cm)    0\n",
      "sepal width (cm)     0\n",
      "petal length (cm)    0\n",
      "petal width (cm)     0\n",
      "species              0\n",
      "dtype: int64\n",
      "\n",
      "\n"
     ]
    }
   ],
   "source": [
    "# ---- Data Validation -------------\n",
    "# check for anomalies and dataframe structure\n",
    "# ref: https://www.tutorialspoint.com/exploratory-data-analysis-on-iris-dataset\n",
    "def fn_datavalidation(): \n",
    "    print(\"\\n-------> dataframe structure: \\n\")\n",
    "    print(df.head(3)) # first 3 lines of data\n",
    "    print(\"\\n-------> dataframe info: \\n\")\n",
    "    print(df.info()) #outputs column names, count of non-null values and datatypes\n",
    "    print(\"\\n-------> Checking for Null entries: \\n\")\n",
    "    print(df.isnull().sum()) #outputs the number of null entries in the dataframe\n",
    "    print(\"\\n\")\n",
    "#-------------------------end of function\n",
    "fn_datavalidation()"
   ]
  }
 ],
 "metadata": {
  "kernelspec": {
   "display_name": "base",
   "language": "python",
   "name": "python3"
  },
  "language_info": {
   "codemirror_mode": {
    "name": "ipython",
    "version": 3
   },
   "file_extension": ".py",
   "mimetype": "text/x-python",
   "name": "python",
   "nbconvert_exporter": "python",
   "pygments_lexer": "ipython3",
   "version": "3.9.13"
  },
  "orig_nbformat": 4
 },
 "nbformat": 4,
 "nbformat_minor": 2
}
